{
  "nbformat": 4,
  "nbformat_minor": 0,
  "metadata": {
    "colab": {
      "name": "PT1_PROJECT.ipynb",
      "provenance": [],
      "collapsed_sections": []
    },
    "kernelspec": {
      "name": "python3",
      "display_name": "Python 3"
    },
    "language_info": {
      "name": "python"
    }
  },
  "cells": [
    {
      "cell_type": "code",
      "metadata": {
        "colab": {
          "base_uri": "https://localhost:8080/"
        },
        "id": "6oFtlyk4xtGv",
        "outputId": "bb8ebeb4-f1a4-4071-ca00-e2bd230a729f"
      },
      "source": [
        "!pip install pyspark"
      ],
      "execution_count": null,
      "outputs": [
        {
          "output_type": "stream",
          "name": "stdout",
          "text": [
            "Collecting pyspark\n",
            "  Downloading pyspark-3.2.0.tar.gz (281.3 MB)\n",
            "\u001b[K     |████████████████████████████████| 281.3 MB 38 kB/s \n",
            "\u001b[?25hCollecting py4j==0.10.9.2\n",
            "  Downloading py4j-0.10.9.2-py2.py3-none-any.whl (198 kB)\n",
            "\u001b[K     |████████████████████████████████| 198 kB 60.5 MB/s \n",
            "\u001b[?25hBuilding wheels for collected packages: pyspark\n",
            "  Building wheel for pyspark (setup.py) ... \u001b[?25l\u001b[?25hdone\n",
            "  Created wheel for pyspark: filename=pyspark-3.2.0-py2.py3-none-any.whl size=281805912 sha256=20eeb72d4f42b878014ec2d154daf7ec3d34016731b3cf693c3b81225dafe544\n",
            "  Stored in directory: /root/.cache/pip/wheels/0b/de/d2/9be5d59d7331c6c2a7c1b6d1a4f463ce107332b1ecd4e80718\n",
            "Successfully built pyspark\n",
            "Installing collected packages: py4j, pyspark\n",
            "Successfully installed py4j-0.10.9.2 pyspark-3.2.0\n"
          ]
        }
      ]
    },
    {
      "cell_type": "code",
      "metadata": {
        "id": "FEsNGt2DyA1G"
      },
      "source": [
        "from pyspark import SparkContext\n",
        "from pyspark.sql import SparkSession"
      ],
      "execution_count": null,
      "outputs": []
    },
    {
      "cell_type": "code",
      "metadata": {
        "id": "KYN2nyE6yRyz"
      },
      "source": [
        "sc=SparkContext(appName=\"BREAST_CANCER_ANALYSIS\")"
      ],
      "execution_count": null,
      "outputs": []
    },
    {
      "cell_type": "code",
      "metadata": {
        "colab": {
          "base_uri": "https://localhost:8080/"
        },
        "id": "vG3WDLgQygR2",
        "outputId": "2abb03ab-41bc-4b1a-ddd5-ac105d771425"
      },
      "source": [
        "! echo $PYSPARK_SUBMIT_ARGS"
      ],
      "execution_count": null,
      "outputs": [
        {
          "output_type": "stream",
          "name": "stdout",
          "text": [
            "\n"
          ]
        }
      ]
    },
    {
      "cell_type": "code",
      "metadata": {
        "id": "RPaBdLn5ypoj"
      },
      "source": [
        "spark=SparkSession.Builder().getOrCreate() #for building dataframes"
      ],
      "execution_count": null,
      "outputs": []
    },
    {
      "cell_type": "code",
      "metadata": {
        "colab": {
          "base_uri": "https://localhost:8080/"
        },
        "id": "zkzEiDcry1js",
        "outputId": "d422ea7b-603f-4ff9-9398-a8dcd891bd88"
      },
      "source": [
        "!wget http://archive.ics.uci.edu/ml/machine-learning-databases/breast-cancer-wisconsin/wdbc.data"
      ],
      "execution_count": null,
      "outputs": [
        {
          "output_type": "stream",
          "name": "stdout",
          "text": [
            "--2021-11-05 06:34:28--  http://archive.ics.uci.edu/ml/machine-learning-databases/breast-cancer-wisconsin/wdbc.data\n",
            "Resolving archive.ics.uci.edu (archive.ics.uci.edu)... 128.195.10.252\n",
            "Connecting to archive.ics.uci.edu (archive.ics.uci.edu)|128.195.10.252|:80... connected.\n",
            "HTTP request sent, awaiting response... 200 OK\n",
            "Length: 124103 (121K) [application/x-httpd-php]\n",
            "Saving to: ‘wdbc.data’\n",
            "\n",
            "wdbc.data           100%[===================>] 121.19K   637KB/s    in 0.2s    \n",
            "\n",
            "2021-11-05 06:34:28 (637 KB/s) - ‘wdbc.data’ saved [124103/124103]\n",
            "\n"
          ]
        }
      ]
    },
    {
      "cell_type": "code",
      "metadata": {
        "colab": {
          "base_uri": "https://localhost:8080/"
        },
        "id": "pebR44sLzoWx",
        "outputId": "85cd3e87-364b-46dd-d461-9b4effd5d9dd"
      },
      "source": [
        "!head -n 3 wdbc.data"
      ],
      "execution_count": null,
      "outputs": [
        {
          "output_type": "stream",
          "name": "stdout",
          "text": [
            "842302,M,17.99,10.38,122.8,1001,0.1184,0.2776,0.3001,0.1471,0.2419,0.07871,1.095,0.9053,8.589,153.4,0.006399,0.04904,0.05373,0.01587,0.03003,0.006193,25.38,17.33,184.6,2019,0.1622,0.6656,0.7119,0.2654,0.4601,0.1189\n",
            "842517,M,20.57,17.77,132.9,1326,0.08474,0.07864,0.0869,0.07017,0.1812,0.05667,0.5435,0.7339,3.398,74.08,0.005225,0.01308,0.0186,0.0134,0.01389,0.003532,24.99,23.41,158.8,1956,0.1238,0.1866,0.2416,0.186,0.275,0.08902\n",
            "84300903,M,19.69,21.25,130,1203,0.1096,0.1599,0.1974,0.1279,0.2069,0.05999,0.7456,0.7869,4.585,94.03,0.00615,0.04006,0.03832,0.02058,0.0225,0.004571,23.57,25.53,152.5,1709,0.1444,0.4245,0.4504,0.243,0.3613,0.08758\n"
          ]
        }
      ]
    },
    {
      "cell_type": "markdown",
      "metadata": {
        "id": "9PpYsS73z5BU"
      },
      "source": [
        "#1) ID Number\n",
        "#2) Diagnosis (M= malignant, B= benign)\n",
        "#3) Features"
      ]
    },
    {
      "cell_type": "code",
      "metadata": {
        "id": "PCrNTGE00qOV"
      },
      "source": [
        "from pyspark.ml.linalg import Vectors\n",
        "from pyspark.ml.feature import StringIndexer"
      ],
      "execution_count": null,
      "outputs": []
    },
    {
      "cell_type": "code",
      "metadata": {
        "id": "NIkxpGIG06RK"
      },
      "source": [
        "data=[]\n",
        "\n",
        "with open(\"wdbc.data\") as infile:\n",
        "  for line in infile:\n",
        "    tokens = line.rstrip(\"\\n\").split(\",\")\n",
        "    y=tokens[1]\n",
        "    features = Vectors.dense([float(x) for x in tokens[2:]])\n",
        "\n",
        "    data.append((y,features))"
      ],
      "execution_count": null,
      "outputs": []
    },
    {
      "cell_type": "code",
      "metadata": {
        "id": "lCDvsdqZ15ZU"
      },
      "source": [
        "inputDF=spark.createDataFrame(data, [\"label\", \"features\"])"
      ],
      "execution_count": null,
      "outputs": []
    },
    {
      "cell_type": "code",
      "metadata": {
        "colab": {
          "base_uri": "https://localhost:8080/"
        },
        "id": "ccHysJK02H1y",
        "outputId": "a42659c9-ef30-4c89-f93b-7b0f002afde2"
      },
      "source": [
        "inputDF.show()"
      ],
      "execution_count": null,
      "outputs": [
        {
          "output_type": "stream",
          "name": "stdout",
          "text": [
            "+-----+--------------------+\n",
            "|label|            features|\n",
            "+-----+--------------------+\n",
            "|    M|[17.99,10.38,122....|\n",
            "|    M|[20.57,17.77,132....|\n",
            "|    M|[19.69,21.25,130....|\n",
            "|    M|[11.42,20.38,77.5...|\n",
            "|    M|[20.29,14.34,135....|\n",
            "|    M|[12.45,15.7,82.57...|\n",
            "|    M|[18.25,19.98,119....|\n",
            "|    M|[13.71,20.83,90.2...|\n",
            "|    M|[13.0,21.82,87.5,...|\n",
            "|    M|[12.46,24.04,83.9...|\n",
            "|    M|[16.02,23.24,102....|\n",
            "|    M|[15.78,17.89,103....|\n",
            "|    M|[19.17,24.8,132.4...|\n",
            "|    M|[15.85,23.95,103....|\n",
            "|    M|[13.73,22.61,93.6...|\n",
            "|    M|[14.54,27.54,96.7...|\n",
            "|    M|[14.68,20.13,94.7...|\n",
            "|    M|[16.13,20.68,108....|\n",
            "|    M|[19.81,22.15,130....|\n",
            "|    B|[13.54,14.36,87.4...|\n",
            "+-----+--------------------+\n",
            "only showing top 20 rows\n",
            "\n"
          ]
        }
      ]
    },
    {
      "cell_type": "code",
      "metadata": {
        "id": "unqbK41T2Pig"
      },
      "source": [
        "stringIndexer=StringIndexer(inputCol= \"label\", outputCol= \"labelIndexed\")\n",
        "si_model = stringIndexer.fit(inputDF)\n",
        "inputDF2 = si_model.transform(inputDF) "
      ],
      "execution_count": null,
      "outputs": []
    },
    {
      "cell_type": "code",
      "metadata": {
        "colab": {
          "base_uri": "https://localhost:8080/"
        },
        "id": "uzE3ZuDT22K-",
        "outputId": "7b49fd8e-7f5b-4fee-a60b-2909cb14945b"
      },
      "source": [
        "inputDF2.show()"
      ],
      "execution_count": null,
      "outputs": [
        {
          "output_type": "stream",
          "name": "stdout",
          "text": [
            "+-----+--------------------+------------+\n",
            "|label|            features|labelIndexed|\n",
            "+-----+--------------------+------------+\n",
            "|    M|[17.99,10.38,122....|         1.0|\n",
            "|    M|[20.57,17.77,132....|         1.0|\n",
            "|    M|[19.69,21.25,130....|         1.0|\n",
            "|    M|[11.42,20.38,77.5...|         1.0|\n",
            "|    M|[20.29,14.34,135....|         1.0|\n",
            "|    M|[12.45,15.7,82.57...|         1.0|\n",
            "|    M|[18.25,19.98,119....|         1.0|\n",
            "|    M|[13.71,20.83,90.2...|         1.0|\n",
            "|    M|[13.0,21.82,87.5,...|         1.0|\n",
            "|    M|[12.46,24.04,83.9...|         1.0|\n",
            "|    M|[16.02,23.24,102....|         1.0|\n",
            "|    M|[15.78,17.89,103....|         1.0|\n",
            "|    M|[19.17,24.8,132.4...|         1.0|\n",
            "|    M|[15.85,23.95,103....|         1.0|\n",
            "|    M|[13.73,22.61,93.6...|         1.0|\n",
            "|    M|[14.54,27.54,96.7...|         1.0|\n",
            "|    M|[14.68,20.13,94.7...|         1.0|\n",
            "|    M|[16.13,20.68,108....|         1.0|\n",
            "|    M|[19.81,22.15,130....|         1.0|\n",
            "|    B|[13.54,14.36,87.4...|         0.0|\n",
            "+-----+--------------------+------------+\n",
            "only showing top 20 rows\n",
            "\n"
          ]
        }
      ]
    },
    {
      "cell_type": "markdown",
      "metadata": {
        "id": "QjZnX6LN3DTE"
      },
      "source": [
        "**TRAINING & TEST** **DATA** **SPLIT**"
      ]
    },
    {
      "cell_type": "code",
      "metadata": {
        "id": "qKEPfpPT3RHr"
      },
      "source": [
        "(trainingData, testData) = inputDF2.randomSplit([0.7,0.3], seed= 23)"
      ],
      "execution_count": null,
      "outputs": []
    },
    {
      "cell_type": "markdown",
      "metadata": {
        "id": "Ne_-DdSx31Bc"
      },
      "source": [
        "***TRAINING DECISION TREE***"
      ]
    },
    {
      "cell_type": "code",
      "metadata": {
        "id": "NGMGmAki384c"
      },
      "source": [
        "from pyspark.ml.classification import DecisionTreeClassifier\n",
        "from pyspark.ml.evaluation import MulticlassClassificationEvaluator"
      ],
      "execution_count": null,
      "outputs": []
    },
    {
      "cell_type": "code",
      "metadata": {
        "id": "cSvX_ckD4RiW"
      },
      "source": [
        "decisionTree = DecisionTreeClassifier(labelCol = \"labelIndexed\")"
      ],
      "execution_count": null,
      "outputs": []
    },
    {
      "cell_type": "code",
      "metadata": {
        "id": "eYAW_ege4cmd"
      },
      "source": [
        "dtmodel = decisionTree.fit(trainingData)"
      ],
      "execution_count": null,
      "outputs": []
    },
    {
      "cell_type": "code",
      "metadata": {
        "colab": {
          "base_uri": "https://localhost:8080/"
        },
        "id": "TlDiRTcj4nWW",
        "outputId": "071a8b58-95ed-4365-d539-5d1940b325e2"
      },
      "source": [
        "dtmodel.numNodes"
      ],
      "execution_count": null,
      "outputs": [
        {
          "output_type": "execute_result",
          "data": {
            "text/plain": [
              "27"
            ]
          },
          "metadata": {},
          "execution_count": 22
        }
      ]
    },
    {
      "cell_type": "code",
      "metadata": {
        "colab": {
          "base_uri": "https://localhost:8080/"
        },
        "id": "iPS_L1bP4rP2",
        "outputId": "8cfcdb91-d52c-423c-aac0-0805dc68a544"
      },
      "source": [
        "dtmodel.depth"
      ],
      "execution_count": null,
      "outputs": [
        {
          "output_type": "execute_result",
          "data": {
            "text/plain": [
              "5"
            ]
          },
          "metadata": {},
          "execution_count": 23
        }
      ]
    },
    {
      "cell_type": "code",
      "metadata": {
        "colab": {
          "base_uri": "https://localhost:8080/"
        },
        "id": "pjRtzkuX4uay",
        "outputId": "349055a2-358f-4034-87c3-04af54254c0a"
      },
      "source": [
        "dtmodel.featureImportances"
      ],
      "execution_count": null,
      "outputs": [
        {
          "output_type": "execute_result",
          "data": {
            "text/plain": [
              "SparseVector(30, {0: 0.0073, 1: 0.0565, 2: 0.0082, 3: 0.0131, 5: 0.0219, 10: 0.0105, 20: 0.7509, 21: 0.018, 24: 0.0134, 26: 0.0106, 27: 0.0897})"
            ]
          },
          "metadata": {},
          "execution_count": 24
        }
      ]
    },
    {
      "cell_type": "code",
      "metadata": {
        "colab": {
          "base_uri": "https://localhost:8080/"
        },
        "id": "fDLKQ50u44cp",
        "outputId": "b2673452-6bf9-47c7-bc5a-ff11f46d54d3"
      },
      "source": [
        "dtmodel.numFeatures"
      ],
      "execution_count": null,
      "outputs": [
        {
          "output_type": "execute_result",
          "data": {
            "text/plain": [
              "30"
            ]
          },
          "metadata": {},
          "execution_count": 25
        }
      ]
    },
    {
      "cell_type": "code",
      "metadata": {
        "colab": {
          "base_uri": "https://localhost:8080/"
        },
        "id": "-Hc4QrVo48-Y",
        "outputId": "c57c47fd-9f55-4390-8618-b287e0bc653e"
      },
      "source": [
        "print(dtmodel.toDebugString)"
      ],
      "execution_count": null,
      "outputs": [
        {
          "output_type": "stream",
          "name": "stdout",
          "text": [
            "DecisionTreeClassificationModel: uid=DecisionTreeClassifier_12a0fff49a38, depth=5, numNodes=27, numClasses=2, numFeatures=30\n",
            "  If (feature 20 <= 16.765)\n",
            "   If (feature 27 <= 0.15635)\n",
            "    If (feature 3 <= 696.25)\n",
            "     If (feature 24 <= 0.179)\n",
            "      Predict: 0.0\n",
            "     Else (feature 24 > 0.179)\n",
            "      If (feature 0 <= 9.7485)\n",
            "       Predict: 0.0\n",
            "      Else (feature 0 > 9.7485)\n",
            "       Predict: 1.0\n",
            "    Else (feature 3 > 696.25)\n",
            "     If (feature 1 <= 13.295)\n",
            "      Predict: 0.0\n",
            "     Else (feature 1 > 13.295)\n",
            "      Predict: 1.0\n",
            "   Else (feature 27 > 0.15635)\n",
            "    If (feature 21 <= 23.215)\n",
            "     If (feature 2 <= 86.945)\n",
            "      Predict: 0.0\n",
            "     Else (feature 2 > 86.945)\n",
            "      Predict: 1.0\n",
            "    Else (feature 21 > 23.215)\n",
            "     Predict: 1.0\n",
            "  Else (feature 20 > 16.765)\n",
            "   If (feature 1 <= 14.805)\n",
            "    If (feature 5 <= 0.13035)\n",
            "     Predict: 0.0\n",
            "    Else (feature 5 > 0.13035)\n",
            "     Predict: 1.0\n",
            "   Else (feature 1 > 14.805)\n",
            "    If (feature 10 <= 0.18159999999999998)\n",
            "     Predict: 0.0\n",
            "    Else (feature 10 > 0.18159999999999998)\n",
            "     If (feature 26 <= 0.1894)\n",
            "      If (feature 1 <= 19.575)\n",
            "       Predict: 0.0\n",
            "      Else (feature 1 > 19.575)\n",
            "       Predict: 1.0\n",
            "     Else (feature 26 > 0.1894)\n",
            "      Predict: 1.0\n",
            "\n"
          ]
        }
      ]
    },
    {
      "cell_type": "code",
      "metadata": {
        "id": "TbBVZR6r5UKQ"
      },
      "source": [
        "predictions=dtmodel.transform(testData)"
      ],
      "execution_count": null,
      "outputs": []
    },
    {
      "cell_type": "code",
      "metadata": {
        "colab": {
          "base_uri": "https://localhost:8080/"
        },
        "id": "k8xD2FH85aqb",
        "outputId": "ec87f1a4-b736-423e-d695-7ba73c5c3dcd"
      },
      "source": [
        "predictions.select('label', 'labelIndexed', 'probability', 'prediction').show()"
      ],
      "execution_count": null,
      "outputs": [
        {
          "output_type": "stream",
          "name": "stdout",
          "text": [
            "+-----+------------+--------------------+----------+\n",
            "|label|labelIndexed|         probability|prediction|\n",
            "+-----+------------+--------------------+----------+\n",
            "|    B|         0.0|[0.97609561752988...|       0.0|\n",
            "|    B|         0.0|[0.97609561752988...|       0.0|\n",
            "|    B|         0.0|[0.97609561752988...|       0.0|\n",
            "|    B|         0.0|[0.97609561752988...|       0.0|\n",
            "|    B|         0.0|[0.97609561752988...|       0.0|\n",
            "|    B|         0.0|[0.97609561752988...|       0.0|\n",
            "|    B|         0.0|[0.97609561752988...|       0.0|\n",
            "|    B|         0.0|[0.97609561752988...|       0.0|\n",
            "|    B|         0.0|[0.97609561752988...|       0.0|\n",
            "|    B|         0.0|[0.97609561752988...|       0.0|\n",
            "|    B|         0.0|[0.97609561752988...|       0.0|\n",
            "|    B|         0.0|[0.97609561752988...|       0.0|\n",
            "|    B|         0.0|[0.97609561752988...|       0.0|\n",
            "|    B|         0.0|[0.97609561752988...|       0.0|\n",
            "|    B|         0.0|[0.97609561752988...|       0.0|\n",
            "|    B|         0.0|[0.97609561752988...|       0.0|\n",
            "|    B|         0.0|[0.97609561752988...|       0.0|\n",
            "|    B|         0.0|[0.97609561752988...|       0.0|\n",
            "|    B|         0.0|[0.97609561752988...|       0.0|\n",
            "|    B|         0.0|[0.97609561752988...|       0.0|\n",
            "+-----+------------+--------------------+----------+\n",
            "only showing top 20 rows\n",
            "\n"
          ]
        }
      ]
    },
    {
      "cell_type": "code",
      "metadata": {
        "colab": {
          "base_uri": "https://localhost:8080/"
        },
        "id": "DmjKuDM95vxu",
        "outputId": "6f591d72-b4e3-4806-a4e1-e2599d0ec03b"
      },
      "source": [
        "evaluator=MulticlassClassificationEvaluator(labelCol= \"labelIndexed\",predictionCol=\"prediction\",metricName= \"accuracy\")\n",
        "accuracy= evaluator.evaluate(predictions)\n",
        "\n",
        "print(\"Test Error = %g\" % (1.0-accuracy))"
      ],
      "execution_count": null,
      "outputs": [
        {
          "output_type": "stream",
          "name": "stdout",
          "text": [
            "Test Error = 0.0519481\n"
          ]
        }
      ]
    },
    {
      "cell_type": "markdown",
      "metadata": {
        "id": "FR4gKMvo78qV"
      },
      "source": [
        "**RANDOM FOREST**"
      ]
    },
    {
      "cell_type": "code",
      "metadata": {
        "id": "dkKn1F3a8BqE"
      },
      "source": [
        "from pyspark.ml.classification import RandomForestClassifier,RandomForestClassificationModel"
      ],
      "execution_count": null,
      "outputs": []
    },
    {
      "cell_type": "code",
      "metadata": {
        "id": "c79kNcR98phG"
      },
      "source": [
        "rfClassifier = RandomForestClassifier(labelCol = \"labelIndexed\", numTrees= 100)"
      ],
      "execution_count": null,
      "outputs": []
    },
    {
      "cell_type": "code",
      "metadata": {
        "id": "baJ4FP1W823j"
      },
      "source": [
        "rfModel= rfClassifier.fit(trainingData)"
      ],
      "execution_count": null,
      "outputs": []
    },
    {
      "cell_type": "code",
      "metadata": {
        "colab": {
          "base_uri": "https://localhost:8080/"
        },
        "id": "jxPKNNVf9AHX",
        "outputId": "317b4cea-abeb-4328-fca5-ddd110f3890e"
      },
      "source": [
        "rfModel.featureImportances"
      ],
      "execution_count": null,
      "outputs": [
        {
          "output_type": "execute_result",
          "data": {
            "text/plain": [
              "SparseVector(30, {0: 0.0549, 1: 0.0149, 2: 0.0264, 3: 0.0583, 4: 0.0072, 5: 0.0084, 6: 0.0259, 7: 0.0942, 8: 0.0044, 9: 0.0024, 10: 0.0198, 11: 0.0029, 12: 0.011, 13: 0.021, 14: 0.003, 15: 0.0049, 16: 0.0028, 17: 0.0055, 18: 0.0033, 19: 0.0034, 20: 0.1591, 21: 0.0205, 22: 0.1324, 23: 0.1317, 24: 0.0116, 25: 0.0119, 26: 0.045, 27: 0.0992, 28: 0.0103, 29: 0.0038})"
            ]
          },
          "metadata": {},
          "execution_count": 35
        }
      ]
    },
    {
      "cell_type": "code",
      "metadata": {
        "colab": {
          "base_uri": "https://localhost:8080/",
          "height": 249
        },
        "id": "u7JHkb0j9EDq",
        "outputId": "b5ecaf9b-a1e9-4e8f-f109-c53b3df2d0d7"
      },
      "source": [
        "rfModel.toDebugString"
      ],
      "execution_count": null,
      "outputs": [
        {
          "output_type": "execute_result",
          "data": {
            "application/vnd.google.colaboratory.intrinsic+json": {
              "type": "string"
            },
            "text/plain": [
              "'RandomForestClassificationModel: uid=RandomForestClassifier_56a019d76932, numTrees=100, numClasses=2, numFeatures=30\\n  Tree 0 (weight 1.0):\\n    If (feature 20 <= 16.765)\\n     If (feature 24 <= 0.179)\\n      If (feature 12 <= 4.816)\\n       If (feature 26 <= 0.3863)\\n        Predict: 0.0\\n       Else (feature 26 > 0.3863)\\n        If (feature 12 <= 1.9969999999999999)\\n         Predict: 1.0\\n        Else (feature 12 > 1.9969999999999999)\\n         Predict: 0.0\\n      Else (feature 12 > 4.816)\\n       Predict: 1.0\\n     Else (feature 24 > 0.179)\\n      Predict: 1.0\\n    Else (feature 20 > 16.765)\\n     If (feature 15 <= 0.018135)\\n      If (feature 10 <= 0.35509999999999997)\\n       If (feature 1 <= 16.34)\\n        Predict: 0.0\\n       Else (feature 1 > 16.34)\\n        Predict: 1.0\\n      Else (feature 10 > 0.35509999999999997)\\n       If (feature 21 <= 19.064999999999998)\\n        Predict: 0.0\\n       Else (feature 21 > 19.064999999999998)\\n        Predict: 1.0\\n     Else (feature 15 > 0.018135)\\n      Predict: 1.0\\n  Tree 1 (weight 1.0):\\n    If (feature 7 <= 0.047885)\\n     If (feature 23 <= 923.95)\\n      If (feature 28 <= 0.19874999999999998)\\n       If (feature 20 <= 13.355)\\n        Predict: 0.0\\n       Else (feature 20 > 13.355)\\n        If (feature 17 <= 0.0060255)\\n         Predict: 0.0\\n        Else (feature 17 > 0.0060255)\\n         Predict: 1.0\\n      Else (feature 28 > 0.19874999999999998)\\n       If (feature 14 <= 0.0034305)\\n        If (feature 26 <= 0.17665)\\n         Predict: 0.0\\n        Else (feature 26 > 0.17665)\\n         Predict: 1.0\\n       Else (feature 14 > 0.0034305)\\n        Predict: 0.0\\n     Else (feature 23 > 923.95)\\n      If (feature 17 <= 0.009433)\\n       If (feature 28 <= 0.19874999999999998)\\n        Predict: 0.0\\n       Else (feature 28 > 0.19874999999999998)\\n        Predict: 1.0\\n      Else (feature 17 > 0.009433)\\n       Predict: 0.0\\n    Else (feature 7 > 0.047885)\\n     If (feature 22 <= 114.8)\\n      If (feature 21 <= 27.53)\\n       If (feature 18 <= 0.041944999999999996)\\n        If (feature 27 <= 0.16565)\\n         Predict: 0.0\\n        Else (feature 27 > 0.16565)\\n         Predict: 1.0\\n       Else (feature 18 > 0.041944999999999996)\\n        Predict: 1.0\\n      Else (feature 21 > 27.53)\\n       Predict: 1.0\\n     Else (feature 22 > 114.8)\\n      Predict: 1.0\\n  Tree 2 (weight 1.0):\\n    If (feature 22 <= 101.95)\\n     If (feature 29 <= 0.12465)\\n      If (feature 10 <= 0.9435)\\n       Predict: 0.0\\n      Else (feature 10 > 0.9435)\\n       Predict: 1.0\\n     Else (feature 29 > 0.12465)\\n      Predict: 1.0\\n    Else (feature 22 > 101.95)\\n     If (feature 24 <= 0.12240000000000001)\\n      If (feature 26 <= 0.17665)\\n       Predict: 0.0\\n      Else (feature 26 > 0.17665)\\n       If (feature 23 <= 923.95)\\n        If (feature 0 <= 15.025)\\n         Predict: 0.0\\n        Else (feature 0 > 15.025)\\n         Predict: 1.0\\n       Else (feature 23 > 923.95)\\n        Predict: 1.0\\n     Else (feature 24 > 0.12240000000000001)\\n      If (feature 1 <= 16.75)\\n       If (feature 25 <= 0.3796)\\n        Predict: 0.0\\n       Else (feature 25 > 0.3796)\\n        Predict: 1.0\\n      Else (feature 1 > 16.75)\\n       If (feature 13 <= 25.5)\\n        If (feature 13 <= 22.939999999999998)\\n         Predict: 1.0\\n        Else (feature 13 > 22.939999999999998)\\n         Predict: 0.0\\n       Else (feature 13 > 25.5)\\n        Predict: 1.0\\n  Tree 3 (weight 1.0):\\n    If (feature 5 <= 0.10175000000000001)\\n     If (feature 13 <= 34.67)\\n      If (feature 0 <= 16.15)\\n       If (feature 26 <= 0.36345)\\n        Predict: 0.0\\n       Else (feature 26 > 0.36345)\\n        Predict: 1.0\\n      Else (feature 0 > 16.15)\\n       Predict: 1.0\\n     Else (feature 13 > 34.67)\\n      If (feature 21 <= 22.814999999999998)\\n       Predict: 0.0\\n      Else (feature 21 > 22.814999999999998)\\n       If (feature 22 <= 88.13499999999999)\\n        If (feature 18 <= 0.015915)\\n         Predict: 1.0\\n        Else (feature 18 > 0.015915)\\n         Predict: 0.0\\n       Else (feature 22 > 88.13499999999999)\\n        If (feature 7 <= 0.024405)\\n         Predict: 0.0\\n        Else (feature 7 > 0.024405)\\n         Predict: 1.0\\n    Else (feature 5 > 0.10175000000000001)\\n     If (feature 23 <= 861.75)\\n      If (feature 26 <= 0.3863)\\n       If (feature 9 <= 0.061115)\\n        If (feature 7 <= 0.057569999999999996)\\n         Predict: 0.0\\n        Else (feature 7 > 0.057569999999999996)\\n         Predict: 1.0\\n       Else (feature 9 > 0.061115)\\n        Predict: 0.0\\n      Else (feature 26 > 0.3863)\\n       If (feature 21 <= 25.740000000000002)\\n        If (feature 4 <= 0.1081)\\n         Predict: 0.0\\n        Else (feature 4 > 0.1081)\\n         Predict: 1.0\\n       Else (feature 21 > 25.740000000000002)\\n        If (feature 4 <= 0.094265)\\n         Predict: 0.0\\n        Else (feature 4 > 0.094265)\\n         Predict: 1.0\\n     Else (feature 23 > 861.75)\\n      Predict: 1.0\\n  Tree 4 (weight 1.0):\\n    If (feature 7 <= 0.053335)\\n     If (feature 20 <= 16.765)\\n      If (feature 21 <= 28.689999999999998)\\n       If (feature 12 <= 4.067)\\n        Predict: 0.0\\n       Else (feature 12 > 4.067)\\n        If (feature 0 <= 9.035499999999999)\\n         Predict: 0.0\\n        Else (feature 0 > 9.035499999999999)\\n         Predict: 1.0\\n      Else (feature 21 > 28.689999999999998)\\n       If (feature 20 <= 15.52)\\n        Predict: 0.0\\n       Else (feature 20 > 15.52)\\n        If (feature 1 <= 21.595)\\n         Predict: 1.0\\n        Else (feature 1 > 21.595)\\n         Predict: 0.0\\n     Else (feature 20 > 16.765)\\n      If (feature 1 <= 18.555)\\n       Predict: 0.0\\n      Else (feature 1 > 18.555)\\n       If (feature 24 <= 0.09376000000000001)\\n        Predict: 0.0\\n       Else (feature 24 > 0.09376000000000001)\\n        Predict: 1.0\\n    Else (feature 7 > 0.053335)\\n     If (feature 1 <= 17.375)\\n      If (feature 26 <= 0.323)\\n       If (feature 27 <= 0.14905000000000002)\\n        Predict: 0.0\\n       Else (feature 27 > 0.14905000000000002)\\n        Predict: 1.0\\n      Else (feature 26 > 0.323)\\n       Predict: 1.0\\n     Else (feature 1 > 17.375)\\n      If (feature 4 <= 0.079315)\\n       If (feature 10 <= 0.36995)\\n        Predict: 0.0\\n       Else (feature 10 > 0.36995)\\n        Predict: 1.0\\n      Else (feature 4 > 0.079315)\\n       If (feature 0 <= 13.614999999999998)\\n        If (feature 27 <= 0.14905000000000002)\\n         Predict: 0.0\\n        Else (feature 27 > 0.14905000000000002)\\n         Predict: 1.0\\n       Else (feature 0 > 13.614999999999998)\\n        Predict: 1.0\\n  Tree 5 (weight 1.0):\\n    If (feature 20 <= 16.765)\\n     If (feature 6 <= 0.13219999999999998)\\n      If (feature 3 <= 696.25)\\n       If (feature 1 <= 22.09)\\n        Predict: 0.0\\n       Else (feature 1 > 22.09)\\n        If (feature 13 <= 32.535)\\n         Predict: 0.0\\n        Else (feature 13 > 32.535)\\n         Predict: 1.0\\n      Else (feature 3 > 696.25)\\n       If (feature 1 <= 13.295)\\n        Predict: 0.0\\n       Else (feature 1 > 13.295)\\n        Predict: 1.0\\n     Else (feature 6 > 0.13219999999999998)\\n      If (feature 17 <= 0.02246)\\n       Predict: 1.0\\n      Else (feature 17 > 0.02246)\\n       Predict: 0.0\\n    Else (feature 20 > 16.765)\\n     If (feature 21 <= 19.064999999999998)\\n      If (feature 19 <= 0.002839)\\n       Predict: 0.0\\n      Else (feature 19 > 0.002839)\\n       Predict: 1.0\\n     Else (feature 21 > 19.064999999999998)\\n      If (feature 6 <= 0.06168)\\n       If (feature 15 <= 0.014735)\\n        Predict: 1.0\\n       Else (feature 15 > 0.014735)\\n        Predict: 0.0\\n      Else (feature 6 > 0.06168)\\n       Predict: 1.0\\n  Tree 6 (weight 1.0):\\n    If (feature 27 <= 0.14105)\\n     If (feature 22 <= 105.15)\\n      If (feature 3 <= 696.25)\\n       If (feature 0 <= 14.085)\\n        Predict: 0.0\\n       Else (feature 0 > 14.085)\\n        If (feature 26 <= 0.22655)\\n         Predict: 0.0\\n        Else (feature 26 > 0.22655)\\n         Predict: 1.0\\n      Else (feature 3 > 696.25)\\n       Predict: 1.0\\n     Else (feature 22 > 105.15)\\n      If (feature 25 <= 0.29485)\\n       If (feature 28 <= 0.2399)\\n        If (feature 14 <= 0.0044155)\\n         Predict: 0.0\\n        Else (feature 14 > 0.0044155)\\n         Predict: 1.0\\n       Else (feature 28 > 0.2399)\\n        If (feature 17 <= 0.01242)\\n         Predict: 1.0\\n        Else (feature 17 > 0.01242)\\n         Predict: 0.0\\n      Else (feature 25 > 0.29485)\\n       Predict: 0.0\\n    Else (feature 27 > 0.14105)\\n     If (feature 20 <= 16.355)\\n      If (feature 28 <= 0.26959999999999995)\\n       Predict: 0.0\\n      Else (feature 28 > 0.26959999999999995)\\n       If (feature 15 <= 0.070405)\\n        If (feature 12 <= 1.5585)\\n         Predict: 0.0\\n        Else (feature 12 > 1.5585)\\n         Predict: 1.0\\n       Else (feature 15 > 0.070405)\\n        Predict: 0.0\\n     Else (feature 20 > 16.355)\\n      Predict: 1.0\\n  Tree 7 (weight 1.0):\\n    If (feature 13 <= 43.675)\\n     If (feature 7 <= 0.047885)\\n      If (feature 23 <= 923.95)\\n       If (feature 20 <= 16.765)\\n        Predict: 0.0\\n       Else (feature 20 > 16.765)\\n        If (feature 9 <= 0.05886)\\n         Predict: 1.0\\n        Else (feature 9 > 0.05886)\\n         Predict: 0.0\\n      Else (feature 23 > 923.95)\\n       If (feature 9 <= 0.055465)\\n        Predict: 0.0\\n       Else (feature 9 > 0.055465)\\n        Predict: 1.0\\n     Else (feature 7 > 0.047885)\\n      If (feature 26 <= 0.26144999999999996)\\n       Predict: 0.0\\n      Else (feature 26 > 0.26144999999999996)\\n       If (feature 23 <= 743.45)\\n        If (feature 10 <= 0.20785)\\n         Predict: 0.0\\n        Else (feature 10 > 0.20785)\\n         Predict: 1.0\\n       Else (feature 23 > 743.45)\\n        If (feature 1 <= 12.55)\\n         Predict: 0.0\\n        Else (feature 1 > 12.55)\\n         Predict: 1.0\\n    Else (feature 13 > 43.675)\\n     If (feature 27 <= 0.11825)\\n      If (feature 21 <= 22.34)\\n       Predict: 0.0\\n      Else (feature 21 > 22.34)\\n       If (feature 19 <= 0.001591)\\n        Predict: 0.0\\n       Else (feature 19 > 0.001591)\\n        Predict: 1.0\\n     Else (feature 27 > 0.11825)\\n      If (feature 23 <= 411.70000000000005)\\n       Predict: 0.0\\n      Else (feature 23 > 411.70000000000005)\\n       Predict: 1.0\\n  Tree 8 (weight 1.0):\\n    If (feature 7 <= 0.053335)\\n     If (feature 13 <= 38.959999999999994)\\n      If (feature 3 <= 744.8)\\n       If (feature 20 <= 16.765)\\n        Predict: 0.0\\n       Else (feature 20 > 16.765)\\n        If (feature 0 <= 13.614999999999998)\\n         Predict: 1.0\\n        Else (feature 0 > 13.614999999999998)\\n         Predict: 0.0\\n      Else (feature 3 > 744.8)\\n       Predict: 1.0\\n     Else (feature 13 > 38.959999999999994)\\n      If (feature 17 <= 0.009901)\\n       If (feature 9 <= 0.052605)\\n        Predict: 0.0\\n       Else (feature 9 > 0.052605)\\n        Predict: 1.0\\n      Else (feature 17 > 0.009901)\\n       If (feature 2 <= 75.1)\\n        Predict: 1.0\\n       Else (feature 2 > 75.1)\\n        If (feature 8 <= 0.1614)\\n         Predict: 1.0\\n        Else (feature 8 > 0.1614)\\n         Predict: 0.0\\n    Else (feature 7 > 0.053335)\\n     If (feature 23 <= 782.85)\\n      If (feature 21 <= 25.740000000000002)\\n       If (feature 11 <= 0.9010499999999999)\\n        Predict: 1.0\\n       Else (feature 11 > 0.9010499999999999)\\n        Predict: 0.0\\n      Else (feature 21 > 25.740000000000002)\\n       If (feature 28 <= 0.26959999999999995)\\n        Predict: 0.0\\n       Else (feature 28 > 0.26959999999999995)\\n        Predict: 1.0\\n     Else (feature 23 > 782.85)\\n      If (feature 11 <= 0.48824999999999996)\\n       If (feature 28 <= 0.25739999999999996)\\n        Predict: 0.0\\n       Else (feature 28 > 0.25739999999999996)\\n        Predict: 1.0\\n      Else (feature 11 > 0.48824999999999996)\\n       If (feature 1 <= 14.08)\\n        If (feature 27 <= 0.11825)\\n         Predict: 0.0\\n        Else (feature 27 > 0.11825)\\n         Predict: 1.0\\n       Else (feature 1 > 14.08)\\n        Predict: 1.0\\n  Tree 9 (weight 1.0):\\n    If (feature 0 <= 15.025)\\n     If (feature 28 <= 0.36214999999999997)\\n      If (feature 23 <= 823.05)\\n       If (feature 13 <= 83.33)\\n        Predict: 0.0\\n       Else (feature 13 > 83.33)\\n        Predict: 1.0\\n      Else (feature 23 > 823.05)\\n       If (feature 13 <= 27.235)\\n        Predict: 1.0\\n       Else (feature 13 > 27.235)\\n        If (feature 28 <= 0.3076)\\n         Predict: 0.0\\n        Else (feature 28 > 0.3076)\\n         Predict: 1.0\\n     Else (feature 28 > 0.36214999999999997)\\n      If (feature 7 <= 0.053335)\\n       If (feature 29 <= 0.12465)\\n        Predict: 0.0\\n       Else (feature 29 > 0.12465)\\n        Predict: 1.0\\n      Else (feature 7 > 0.053335)\\n       Predict: 1.0\\n    Else (feature 0 > 15.025)\\n     If (feature 1 <= 16.34)\\n      If (feature 22 <= 128.35)\\n       Predict: 0.0\\n      Else (feature 22 > 128.35)\\n       Predict: 1.0\\n     Else (feature 1 > 16.34)\\n      Predict: 1.0\\n  Tree 10 (weight 1.0):\\n    If (feature 7 <= 0.053335)\\n     If (feature 22 <= 101.95)\\n      If (feature 11 <= 1.9304999999999999)\\n       If (feature 20 <= 14.43)\\n        Predict: 0.0\\n       Else (feature 20 > 14.43)\\n        If (feature 21 <= 30.89)\\n         Predict: 0.0\\n        Else (feature 21 > 30.89)\\n         Predict: 1.0\\n      Else (feature 11 > 1.9304999999999999)\\n       If (feature 10 <= 0.5500499999999999)\\n        Predict: 0.0\\n       Else (feature 10 > 0.5500499999999999)\\n        Predict: 1.0\\n     Else (feature 22 > 101.95)\\n      If (feature 0 <= 13.614999999999998)\\n       If (feature 17 <= 0.010535)\\n        Predict: 1.0\\n       Else (feature 17 > 0.010535)\\n        Predict: 0.0\\n      Else (feature 0 > 13.614999999999998)\\n       If (feature 23 <= 1270.5)\\n        If (feature 1 <= 19.875)\\n         Predict: 0.0\\n        Else (feature 1 > 19.875)\\n         Predict: 1.0\\n       Else (feature 23 > 1270.5)\\n        Predict: 1.0\\n    Else (feature 7 > 0.053335)\\n     If (feature 26 <= 0.17665)\\n      Predict: 0.0\\n     Else (feature 26 > 0.17665)\\n      If (feature 4 <= 0.079315)\\n       Predict: 0.0\\n      Else (feature 4 > 0.079315)\\n       If (feature 9 <= 0.07073499999999999)\\n        Predict: 1.0\\n       Else (feature 9 > 0.07073499999999999)\\n        If (feature 27 <= 0.11825)\\n         Predict: 0.0\\n        Else (feature 27 > 0.11825)\\n         Predict: 1.0\\n  Tree 11 (weight 1.0):\\n    If (feature 20 <= 16.765)\\n     If (feature 27 <= 0.14105)\\n      If (feature 17 <= 0.014135)\\n       If (feature 19 <= 0.0014334999999999999)\\n        If (feature 6 <= 0.02683)\\n         Predict: 0.0\\n        Else (feature 6 > 0.02683)\\n         Predict: 1.0\\n       Else (feature 19 > 0.0014334999999999999)\\n        Predict: 0.0\\n      Else (feature 17 > 0.014135)\\n       If (feature 19 <= 0.0033365)\\n        If (feature 23 <= 499.85)\\n         Predict: 0.0\\n        Else (feature 23 > 499.85)\\n         Predict: 1.0\\n       Else (feature 19 > 0.0033365)\\n        Predict: 0.0\\n     Else (feature 27 > 0.14105)\\n      If (feature 21 <= 25.455)\\n       Predict: 0.0\\n      Else (feature 21 > 25.455)\\n       If (feature 9 <= 0.06686)\\n        If (feature 7 <= 0.03758)\\n         Predict: 0.0\\n        Else (feature 7 > 0.03758)\\n         Predict: 1.0\\n       Else (feature 9 > 0.06686)\\n        Predict: 1.0\\n    Else (feature 20 > 16.765)\\n     If (feature 24 <= 0.09376000000000001)\\n      Predict: 0.0\\n     Else (feature 24 > 0.09376000000000001)\\n      If (feature 11 <= 0.48824999999999996)\\n       Predict: 0.0\\n      Else (feature 11 > 0.48824999999999996)\\n       If (feature 26 <= 0.17665)\\n        If (feature 28 <= 0.3076)\\n         Predict: 0.0\\n        Else (feature 28 > 0.3076)\\n         Predict: 1.0\\n       Else (feature 26 > 0.17665)\\n        Predict: 1.0\\n  Tree 12 (weight 1.0):\\n    If (feature 12 <= 2.8005)\\n     If (feature 3 <= 908.6500000000001)\\n      If (feature 7 <= 0.053335)\\n       If (feature 20 <= 16.765)\\n        Predict: 0.0\\n       Else (feature 20 > 16.765)\\n        If (feature 12 <= 1.3545)\\n         Predict: 1.0\\n        Else (feature 12 > 1.3545)\\n         Predict: 0.0\\n      Else (feature 7 > 0.053335)\\n       If (feature 15 <= 0.020685000000000002)\\n        Predict: 0.0\\n       Else (feature 15 > 0.020685000000000002)\\n        If (feature 10 <= 0.41290000000000004)\\n         Predict: 1.0\\n        Else (feature 10 > 0.41290000000000004)\\n         Predict: 0.0\\n     Else (feature 3 > 908.6500000000001)\\n      Predict: 1.0\\n    Else (feature 12 > 2.8005)\\n     If (feature 2 <= 86.945)\\n      If (feature 12 <= 4.067)\\n       If (feature 26 <= 0.4821)\\n        Predict: 0.0\\n       Else (feature 26 > 0.4821)\\n        If (feature 12 <= 3.4375)\\n         Predict: 0.0\\n        Else (feature 12 > 3.4375)\\n         Predict: 1.0\\n      Else (feature 12 > 4.067)\\n       Predict: 1.0\\n     Else (feature 2 > 86.945)\\n      If (feature 20 <= 16.765)\\n       If (feature 15 <= 0.039685)\\n        Predict: 1.0\\n       Else (feature 15 > 0.039685)\\n        If (feature 24 <= 0.13245)\\n         Predict: 0.0\\n        Else (feature 24 > 0.13245)\\n         Predict: 1.0\\n      Else (feature 20 > 16.765)\\n       If (feature 6 <= 0.06168)\\n        If (feature 16 <= 0.023795)\\n         Predict: 0.0\\n        Else (feature 16 > 0.023795)\\n         Predict: 1.0\\n       Else (feature 6 > 0.06168)\\n        Predict: 1.0\\n  Tree 13 (weight 1.0):\\n    If (feature 23 <= 861.75)\\n     If (feature 5 <= 0.13435)\\n      If (feature 5 <= 0.10175000000000001)\\n       If (feature 20 <= 16.765)\\n        Predict: 0.0\\n       Else (feature 20 > 16.765)\\n        Predict: 1.0\\n      Else (feature 5 > 0.10175000000000001)\\n       If (feature 1 <= 21.595)\\n        Predict: 0.0\\n       Else (feature 1 > 21.595)\\n        If (feature 20 <= 16.355)\\n         Predict: 0.0\\n        Else (feature 20 > 16.355)\\n         Predict: 1.0\\n     Else (feature 5 > 0.13435)\\n      If (feature 26 <= 0.323)\\n       Predict: 0.0\\n      Else (feature 26 > 0.323)\\n       If (feature 28 <= 0.31755)\\n        If (feature 18 <= 0.015555)\\n         Predict: 1.0\\n        Else (feature 18 > 0.015555)\\n         Predict: 0.0\\n       Else (feature 28 > 0.31755)\\n        Predict: 1.0\\n    Else (feature 23 > 861.75)\\n     If (feature 16 <= 0.018575)\\n      If (feature 21 <= 19.54)\\n       Predict: 0.0\\n      Else (feature 21 > 19.54)\\n       Predict: 1.0\\n     Else (feature 16 > 0.018575)\\n      If (feature 20 <= 16.765)\\n       Predict: 0.0\\n      Else (feature 20 > 16.765)\\n       If (feature 26 <= 0.1894)\\n        If (feature 17 <= 0.009107500000000001)\\n         Predict: 1.0\\n        Else (feature 17 > 0.009107500000000001)\\n         Predict: 0.0\\n       Else (feature 26 > 0.1894)\\n        Predict: 1.0\\n  Tree 14 (weight 1.0):\\n    If (feature 7 <= 0.053335)\\n     If (feature 23 <= 923.95)\\n      If (feature 27 <= 0.1313)\\n       If (feature 23 <= 782.85)\\n        Predict: 0.0\\n       Else (feature 23 > 782.85)\\n        If (feature 0 <= 13.445)\\n         Predict: 1.0\\n        Else (feature 0 > 13.445)\\n         Predict: 0.0\\n      Else (feature 27 > 0.1313)\\n       If (feature 28 <= 0.24935000000000002)\\n        Predict: 1.0\\n       Else (feature 28 > 0.24935000000000002)\\n        If (feature 14 <= 0.004215)\\n         Predict: 1.0\\n        Else (feature 14 > 0.004215)\\n         Predict: 0.0\\n     Else (feature 23 > 923.95)\\n      If (feature 1 <= 19.575)\\n       Predict: 0.0\\n      Else (feature 1 > 19.575)\\n       Predict: 1.0\\n    Else (feature 7 > 0.053335)\\n     If (feature 21 <= 22.34)\\n      If (feature 20 <= 17.384999999999998)\\n       Predict: 0.0\\n      Else (feature 20 > 17.384999999999998)\\n       Predict: 1.0\\n     Else (feature 21 > 22.34)\\n      If (feature 28 <= 0.26959999999999995)\\n       If (feature 2 <= 97.92)\\n        Predict: 0.0\\n       Else (feature 2 > 97.92)\\n        Predict: 1.0\\n      Else (feature 28 > 0.26959999999999995)\\n       Predict: 1.0\\n  Tree 15 (weight 1.0):\\n    If (feature 3 <= 696.25)\\n     If (feature 27 <= 0.14905000000000002)\\n      If (feature 10 <= 0.63295)\\n       Predict: 0.0\\n      Else (feature 10 > 0.63295)\\n       Predict: 1.0\\n     Else (feature 27 > 0.14905000000000002)\\n      If (feature 4 <= 0.079315)\\n       Predict: 0.0\\n      Else (feature 4 > 0.079315)\\n       Predict: 1.0\\n    Else (feature 3 > 696.25)\\n     If (feature 13 <= 20.130000000000003)\\n      If (feature 6 <= 0.057115)\\n       Predict: 1.0\\n      Else (feature 6 > 0.057115)\\n       Predict: 0.0\\n     Else (feature 13 > 20.130000000000003)\\n      If (feature 20 <= 18.225)\\n       If (feature 0 <= 16.15)\\n        If (feature 12 <= 1.9969999999999999)\\n         Predict: 0.0\\n        Else (feature 12 > 1.9969999999999999)\\n         Predict: 1.0\\n       Else (feature 0 > 16.15)\\n        If (feature 28 <= 0.25345)\\n         Predict: 0.0\\n        Else (feature 28 > 0.25345)\\n         Predict: 1.0\\n      Else (feature 20 > 18.225)\\n       Predict: 1.0\\n  Tree 16 (weight 1.0):\\n    If (feature 27 <= 0.14105)\\n     If (feature 20 <= 16.765)\\n      If (feature 3 <= 696.25)\\n       If (feature 10 <= 0.63295)\\n        Predict: 0.0\\n       Else (feature 10 > 0.63295)\\n        If (feature 18 <= 0.015915)\\n         Predict: 1.0\\n        Else (feature 18 > 0.015915)\\n         Predict: 0.0\\n      Else (feature 3 > 696.25)\\n       Predict: 1.0\\n     Else (feature 20 > 16.765)\\n      If (feature 1 <= 18.555)\\n       Predict: 0.0\\n      Else (feature 1 > 18.555)\\n       If (feature 27 <= 0.08968000000000001)\\n        If (feature 26 <= 0.16260000000000002)\\n         Predict: 1.0\\n        Else (feature 26 > 0.16260000000000002)\\n         Predict: 0.0\\n       Else (feature 27 > 0.08968000000000001)\\n        Predict: 1.0\\n    Else (feature 27 > 0.14105)\\n     If (feature 0 <= 10.685)\\n      Predict: 0.0\\n     Else (feature 0 > 10.685)\\n      If (feature 4 <= 0.079315)\\n       Predict: 0.0\\n      Else (feature 4 > 0.079315)\\n       If (feature 26 <= 0.20875)\\n        Predict: 0.0\\n       Else (feature 26 > 0.20875)\\n        Predict: 1.0\\n  Tree 17 (weight 1.0):\\n    If (feature 23 <= 923.95)\\n     If (feature 25 <= 0.40449999999999997)\\n      If (feature 21 <= 28.689999999999998)\\n       If (feature 2 <= 102.55)\\n        Predict: 0.0\\n       Else (feature 2 > 102.55)\\n        Predict: 1.0\\n      Else (feature 21 > 28.689999999999998)\\n       If (feature 20 <= 15.52)\\n        Predict: 0.0\\n       Else (feature 20 > 15.52)\\n        If (feature 2 <= 94.485)\\n         Predict: 1.0\\n        Else (feature 2 > 94.485)\\n         Predict: 0.0\\n     Else (feature 25 > 0.40449999999999997)\\n      If (feature 13 <= 18.744999999999997)\\n       If (feature 21 <= 29.255000000000003)\\n        Predict: 0.0\\n       Else (feature 21 > 29.255000000000003)\\n        Predict: 1.0\\n      Else (feature 13 > 18.744999999999997)\\n       If (feature 5 <= 0.12685000000000002)\\n        Predict: 0.0\\n       Else (feature 5 > 0.12685000000000002)\\n        Predict: 1.0\\n    Else (feature 23 > 923.95)\\n     If (feature 8 <= 0.1378)\\n      Predict: 0.0\\n     Else (feature 8 > 0.1378)\\n      If (feature 16 <= 0.018575)\\n       If (feature 1 <= 18.555)\\n        Predict: 0.0\\n       Else (feature 1 > 18.555)\\n        Predict: 1.0\\n      Else (feature 16 > 0.018575)\\n       If (feature 28 <= 0.25345)\\n        If (feature 19 <= 0.001591)\\n         Predict: 0.0\\n        Else (feature 19 > 0.001591)\\n         Predict: 1.0\\n       Else (feature 28 > 0.25345)\\n        Predict: 1.0\\n  Tree 18 (weight 1.0):\\n    If (feature 6 <= 0.093405)\\n     If (feature 23 <= 923.95)\\n      If (feature 13 <= 48.565)\\n       If (feature 27 <= 0.08968000000000001)\\n        Predict: 0.0\\n       Else (feature 27 > 0.08968000000000001)\\n        If (feature 21 <= 32.504999999999995)\\n         Predict: 0.0\\n        Else (feature 21 > 32.504999999999995)\\n         Predict: 1.0\\n      Else (feature 13 > 48.565)\\n       If (feature 1 <= 17.375)\\n        Predict: 0.0\\n       Else (feature 1 > 17.375)\\n        Predict: 1.0\\n     Else (feature 23 > 923.95)\\n      If (feature 27 <= 0.10475000000000001)\\n       If (feature 26 <= 0.13055)\\n        If (feature 8 <= 0.1378)\\n         Predict: 0.0\\n        Else (feature 8 > 0.1378)\\n         Predict: 1.0\\n       Else (feature 26 > 0.13055)\\n        Predict: 0.0\\n      Else (feature 27 > 0.10475000000000001)\\n       Predict: 1.0\\n    Else (feature 6 > 0.093405)\\n     If (feature 23 <= 823.05)\\n      If (feature 23 <= 499.85)\\n       Predict: 0.0\\n      Else (feature 23 > 499.85)\\n       If (feature 24 <= 0.1366)\\n        Predict: 0.0\\n       Else (feature 24 > 0.1366)\\n        If (feature 28 <= 0.2616)\\n         Predict: 0.0\\n        Else (feature 28 > 0.2616)\\n         Predict: 1.0\\n     Else (feature 23 > 823.05)\\n      Predict: 1.0\\n  Tree 19 (weight 1.0):\\n    If (feature 22 <= 114.8)\\n     If (feature 23 <= 688.85)\\n      If (feature 27 <= 0.17454999999999998)\\n       If (feature 12 <= 4.067)\\n        Predict: 0.0\\n       Else (feature 12 > 4.067)\\n        If (feature 16 <= 0.013090000000000001)\\n         Predict: 1.0\\n        Else (feature 16 > 0.013090000000000001)\\n         Predict: 0.0\\n      Else (feature 27 > 0.17454999999999998)\\n       Predict: 1.0\\n     Else (feature 23 > 688.85)\\n      If (feature 7 <= 0.047885)\\n       If (feature 25 <= 0.065095)\\n        Predict: 1.0\\n       Else (feature 25 > 0.065095)\\n        If (feature 3 <= 696.25)\\n         Predict: 0.0\\n        Else (feature 3 > 696.25)\\n         Predict: 1.0\\n      Else (feature 7 > 0.047885)\\n       If (feature 3 <= 647.1500000000001)\\n        Predict: 1.0\\n       Else (feature 3 > 647.1500000000001)\\n        If (feature 25 <= 0.20425)\\n         Predict: 1.0\\n        Else (feature 25 > 0.20425)\\n         Predict: 0.0\\n    Else (feature 22 > 114.8)\\n     If (feature 23 <= 743.45)\\n      Predict: 0.0\\n     Else (feature 23 > 743.45)\\n      If (feature 22 <= 122.25)\\n       If (feature 28 <= 0.25345)\\n        Predict: 0.0\\n       Else (feature 28 > 0.25345)\\n        Predict: 1.0\\n      Else (feature 22 > 122.25)\\n       Predict: 1.0\\n  Tree 20 (weight 1.0):\\n    If (feature 20 <= 16.765)\\n     If (feature 17 <= 0.013155)\\n      Predict: 0.0\\n     Else (feature 17 > 0.013155)\\n      If (feature 3 <= 519.7)\\n       If (feature 23 <= 548.25)\\n        Predict: 0.0\\n       Else (feature 23 > 548.25)\\n        If (feature 27 <= 0.084235)\\n         Predict: 0.0\\n        Else (feature 27 > 0.084235)\\n         Predict: 1.0\\n      Else (feature 3 > 519.7)\\n       If (feature 19 <= 0.004565)\\n        Predict: 1.0\\n       Else (feature 19 > 0.004565)\\n        If (feature 24 <= 0.14035)\\n         Predict: 0.0\\n        Else (feature 24 > 0.14035)\\n         Predict: 1.0\\n    Else (feature 20 > 16.765)\\n     If (feature 1 <= 14.805)\\n      If (feature 20 <= 20.384999999999998)\\n       Predict: 0.0\\n      Else (feature 20 > 20.384999999999998)\\n       Predict: 1.0\\n     Else (feature 1 > 14.805)\\n      If (feature 25 <= 0.1704)\\n       If (feature 8 <= 0.1513)\\n        Predict: 0.0\\n       Else (feature 8 > 0.1513)\\n        Predict: 1.0\\n      Else (feature 25 > 0.1704)\\n       Predict: 1.0\\n  Tree 21 (weight 1.0):\\n    If (feature 7 <= 0.047885)\\n     If (feature 3 <= 696.25)\\n      If (feature 21 <= 32.504999999999995)\\n       Predict: 0.0\\n      Else (feature 21 > 32.504999999999995)\\n       If (feature 11 <= 1.4304999999999999)\\n        If (feature 9 <= 0.05752)\\n         Predict: 0.0\\n        Else (feature 9 > 0.05752)\\n         Predict: 1.0\\n       Else (feature 11 > 1.4304999999999999)\\n        Predict: 0.0\\n     Else (feature 3 > 696.25)\\n      If (feature 24 <= 0.11435000000000001)\\n       If (feature 0 <= 15.025)\\n        Predict: 1.0\\n       Else (feature 0 > 15.025)\\n        Predict: 0.0\\n      Else (feature 24 > 0.11435000000000001)\\n       Predict: 1.0\\n    Else (feature 7 > 0.047885)\\n     If (feature 2 <= 88.70500000000001)\\n      If (feature 24 <= 0.1632)\\n       If (feature 20 <= 16.060000000000002)\\n        If (feature 18 <= 0.041944999999999996)\\n         Predict: 0.0\\n        Else (feature 18 > 0.041944999999999996)\\n         Predict: 1.0\\n       Else (feature 20 > 16.060000000000002)\\n        Predict: 1.0\\n      Else (feature 24 > 0.1632)\\n       Predict: 1.0\\n     Else (feature 2 > 88.70500000000001)\\n      If (feature 26 <= 0.20875)\\n       If (feature 12 <= 2.8005)\\n        Predict: 0.0\\n       Else (feature 12 > 2.8005)\\n        Predict: 1.0\\n      Else (feature 26 > 0.20875)\\n       If (feature 21 <= 16.075)\\n        Predict: 0.0\\n       Else (feature 21 > 16.075)\\n        Predict: 1.0\\n  Tree 22 (weight 1.0):\\n    If (feature 27 <= 0.1313)\\n     If (feature 23 <= 923.95)\\n      If (feature 13 <= 48.565)\\n       If (feature 13 <= 34.67)\\n        Predict: 0.0\\n       Else (feature 13 > 34.67)\\n        If (feature 24 <= 0.12240000000000001)\\n         Predict: 0.0\\n        Else (feature 24 > 0.12240000000000001)\\n         Predict: 1.0\\n      Else (feature 13 > 48.565)\\n       If (feature 28 <= 0.19874999999999998)\\n        Predict: 1.0\\n       Else (feature 28 > 0.19874999999999998)\\n        Predict: 0.0\\n     Else (feature 23 > 923.95)\\n      If (feature 19 <= 0.001591)\\n       Predict: 0.0\\n      Else (feature 19 > 0.001591)\\n       If (feature 11 <= 1.334)\\n        Predict: 1.0\\n       Else (feature 11 > 1.334)\\n        If (feature 10 <= 0.34165)\\n         Predict: 0.0\\n        Else (feature 10 > 0.34165)\\n         Predict: 1.0\\n    Else (feature 27 > 0.1313)\\n     If (feature 1 <= 16.75)\\n      If (feature 7 <= 0.08639)\\n       If (feature 27 <= 0.16565)\\n        Predict: 0.0\\n       Else (feature 27 > 0.16565)\\n        Predict: 1.0\\n      Else (feature 7 > 0.08639)\\n       Predict: 1.0\\n     Else (feature 1 > 16.75)\\n      If (feature 3 <= 348.3)\\n       Predict: 0.0\\n      Else (feature 3 > 348.3)\\n       If (feature 22 <= 113.15)\\n        If (feature 24 <= 0.11805)\\n         Predict: 0.0\\n        Else (feature 24 > 0.11805)\\n         Predict: 1.0\\n       Else (feature 22 > 113.15)\\n        Predict: 1.0\\n  Tree 23 (weight 1.0):\\n    If (feature 10 <= 0.5500499999999999)\\n     If (feature 26 <= 0.323)\\n      If (feature 27 <= 0.14905000000000002)\\n       If (feature 22 <= 122.25)\\n        Predict: 0.0\\n       Else (feature 22 > 122.25)\\n        If (feature 16 <= 0.0116)\\n         Predict: 0.0\\n        Else (feature 16 > 0.0116)\\n         Predict: 1.0\\n      Else (feature 27 > 0.14905000000000002)\\n       Predict: 1.0\\n     Else (feature 26 > 0.323)\\n      If (feature 3 <= 558.6500000000001)\\n       If (feature 24 <= 0.1632)\\n        If (feature 27 <= 0.18259999999999998)\\n         Predict: 0.0\\n        Else (feature 27 > 0.18259999999999998)\\n         Predict: 1.0\\n       Else (feature 24 > 0.1632)\\n        Predict: 1.0\\n      Else (feature 3 > 558.6500000000001)\\n       If (feature 28 <= 0.25739999999999996)\\n        If (feature 0 <= 16.15)\\n         Predict: 0.0\\n        Else (feature 0 > 16.15)\\n         Predict: 1.0\\n       Else (feature 28 > 0.25739999999999996)\\n        If (feature 24 <= 0.11435000000000001)\\n         Predict: 0.0\\n        Else (feature 24 > 0.11435000000000001)\\n         Predict: 1.0\\n    Else (feature 10 > 0.5500499999999999)\\n     If (feature 23 <= 782.85)\\n      Predict: 0.0\\n     Else (feature 23 > 782.85)\\n      Predict: 1.0\\n  Tree 24 (weight 1.0):\\n    If (feature 23 <= 823.05)\\n     If (feature 21 <= 29.255000000000003)\\n      If (feature 26 <= 0.323)\\n       If (feature 28 <= 0.19874999999999998)\\n        If (feature 17 <= 0.013155)\\n         Predict: 0.0\\n        Else (feature 17 > 0.013155)\\n         Predict: 1.0\\n       Else (feature 28 > 0.19874999999999998)\\n        Predict: 0.0\\n      Else (feature 26 > 0.323)\\n       If (feature 21 <= 25.740000000000002)\\n        Predict: 0.0\\n       Else (feature 21 > 25.740000000000002)\\n        If (feature 16 <= 0.05495)\\n         Predict: 1.0\\n        Else (feature 16 > 0.05495)\\n         Predict: 0.0\\n     Else (feature 21 > 29.255000000000003)\\n      If (feature 27 <= 0.11065)\\n       Predict: 0.0\\n      Else (feature 27 > 0.11065)\\n       If (feature 14 <= 0.008156)\\n        Predict: 1.0\\n       Else (feature 14 > 0.008156)\\n        Predict: 0.0\\n    Else (feature 23 > 823.05)\\n     If (feature 1 <= 14.08)\\n      If (feature 22 <= 128.35)\\n       Predict: 0.0\\n      Else (feature 22 > 128.35)\\n       Predict: 1.0\\n     Else (feature 1 > 14.08)\\n      If (feature 16 <= 0.01983)\\n       If (feature 20 <= 18.225)\\n        If (feature 10 <= 0.20785)\\n         Predict: 1.0\\n        Else (feature 10 > 0.20785)\\n         Predict: 0.0\\n       Else (feature 20 > 18.225)\\n        Predict: 1.0\\n      Else (feature 16 > 0.01983)\\n       If (feature 7 <= 0.04289)\\n        If (feature 18 <= 0.01521)\\n         Predict: 1.0\\n        Else (feature 18 > 0.01521)\\n         Predict: 0.0\\n       Else (feature 7 > 0.04289)\\n        Predict: 1.0\\n  Tree 25 (weight 1.0):\\n    If (feature 23 <= 923.95)\\n     If (feature 21 <= 32.504999999999995)\\n      If (feature 13 <= 83.33)\\n       If (feature 7 <= 0.047885)\\n        Predict: 0.0\\n       Else (feature 7 > 0.047885)\\n        If (feature 20 <= 16.060000000000002)\\n         Predict: 0.0\\n        Else (feature 20 > 16.060000000000002)\\n         Predict: 1.0\\n      Else (feature 13 > 83.33)\\n       Predict: 1.0\\n     Else (feature 21 > 32.504999999999995)\\n      If (feature 5 <= 0.07691)\\n       Predict: 0.0\\n      Else (feature 5 > 0.07691)\\n       If (feature 1 <= 24.945)\\n        If (feature 11 <= 2.4585)\\n         Predict: 1.0\\n        Else (feature 11 > 2.4585)\\n         Predict: 0.0\\n       Else (feature 1 > 24.945)\\n        Predict: 0.0\\n    Else (feature 23 > 923.95)\\n     If (feature 6 <= 0.06168)\\n      If (feature 15 <= 0.014735)\\n       If (feature 8 <= 0.1378)\\n        Predict: 0.0\\n       Else (feature 8 > 0.1378)\\n        Predict: 1.0\\n      Else (feature 15 > 0.014735)\\n       Predict: 0.0\\n     Else (feature 6 > 0.06168)\\n      Predict: 1.0\\n  Tree 26 (weight 1.0):\\n    If (feature 22 <= 108.69999999999999)\\n     If (feature 25 <= 0.3796)\\n      If (feature 27 <= 0.1313)\\n       If (feature 11 <= 1.9304999999999999)\\n        Predict: 0.0\\n       Else (feature 11 > 1.9304999999999999)\\n        If (feature 20 <= 13.355)\\n         Predict: 0.0\\n        Else (feature 20 > 13.355)\\n         Predict: 1.0\\n      Else (feature 27 > 0.1313)\\n       If (feature 14 <= 0.010385)\\n        Predict: 1.0\\n       Else (feature 14 > 0.010385)\\n        Predict: 0.0\\n     Else (feature 25 > 0.3796)\\n      If (feature 13 <= 18.744999999999997)\\n       Predict: 0.0\\n      Else (feature 13 > 18.744999999999997)\\n       If (feature 15 <= 0.039685)\\n        Predict: 1.0\\n       Else (feature 15 > 0.039685)\\n        Predict: 0.0\\n    Else (feature 22 > 108.69999999999999)\\n     If (feature 26 <= 0.1894)\\n      If (feature 28 <= 0.3076)\\n       Predict: 0.0\\n      Else (feature 28 > 0.3076)\\n       Predict: 1.0\\n     Else (feature 26 > 0.1894)\\n      If (feature 22 <= 114.8)\\n       If (feature 21 <= 19.54)\\n        Predict: 0.0\\n       Else (feature 21 > 19.54)\\n        If (feature 24 <= 0.13479999999999998)\\n         Predict: 0.0\\n        Else (feature 24 > 0.13479999999999998)\\n         Predict: 1.0\\n      Else (feature 22 > 114.8)\\n       Predict: 1.0\\n  Tree 27 (weight 1.0):\\n    If (feature 20 <= 16.355)\\n     If (feature 5 <= 0.16705)\\n      If (feature 3 <= 696.25)\\n       If (feature 17 <= 0.01242)\\n        Predict: 0.0\\n       Else (feature 17 > 0.01242)\\n        If (feature 12 <= 4.067)\\n         Predict: 0.0\\n        Else (feature 12 > 4.067)\\n         Predict: 1.0\\n      Else (feature 3 > 696.25)\\n       Predict: 1.0\\n     Else (feature 5 > 0.16705)\\n      Predict: 1.0\\n    Else (feature 20 > 16.355)\\n     If (feature 6 <= 0.074405)\\n      If (feature 24 <= 0.13479999999999998)\\n       If (feature 14 <= 0.0034305)\\n        Predict: 1.0\\n       Else (feature 14 > 0.0034305)\\n        If (feature 15 <= 0.009174999999999999)\\n         Predict: 1.0\\n        Else (feature 15 > 0.009174999999999999)\\n         Predict: 0.0\\n      Else (feature 24 > 0.13479999999999998)\\n       Predict: 1.0\\n     Else (feature 6 > 0.074405)\\n      If (feature 7 <= 0.04289)\\n       Predict: 0.0\\n      Else (feature 7 > 0.04289)\\n       If (feature 21 <= 19.064999999999998)\\n        If (feature 27 <= 0.11825)\\n         Predict: 0.0\\n        Else (feature 27 > 0.11825)\\n         Predict: 1.0\\n       Else (feature 21 > 19.064999999999998)\\n        Predict: 1.0\\n  Tree 28 (weight 1.0):\\n    If (feature 2 <= 97.92)\\n     If (feature 22 <= 101.95)\\n      If (feature 29 <= 0.12465)\\n       If (feature 10 <= 0.9435)\\n        Predict: 0.0\\n       Else (feature 10 > 0.9435)\\n        Predict: 1.0\\n      Else (feature 29 > 0.12465)\\n       If (feature 13 <= 11.75)\\n        Predict: 0.0\\n       Else (feature 13 > 11.75)\\n        Predict: 1.0\\n     Else (feature 22 > 101.95)\\n      If (feature 26 <= 0.26144999999999996)\\n       Predict: 0.0\\n      Else (feature 26 > 0.26144999999999996)\\n       If (feature 7 <= 0.047885)\\n        If (feature 20 <= 16.765)\\n         Predict: 0.0\\n        Else (feature 20 > 16.765)\\n         Predict: 1.0\\n       Else (feature 7 > 0.047885)\\n        Predict: 1.0\\n    Else (feature 2 > 97.92)\\n     If (feature 12 <= 1.9969999999999999)\\n      If (feature 9 <= 0.054974999999999996)\\n       Predict: 1.0\\n      Else (feature 9 > 0.054974999999999996)\\n       Predict: 0.0\\n     Else (feature 12 > 1.9969999999999999)\\n      If (feature 0 <= 14.77)\\n       Predict: 0.0\\n      Else (feature 0 > 14.77)\\n       If (feature 13 <= 34.67)\\n        If (feature 9 <= 0.055935)\\n         Predict: 0.0\\n        Else (feature 9 > 0.055935)\\n         Predict: 1.0\\n       Else (feature 13 > 34.67)\\n        Predict: 1.0\\n  Tree 29 (weight 1.0):\\n    If (feature 13 <= 38.959999999999994)\\n     If (feature 23 <= 823.05)\\n      If (feature 21 <= 32.504999999999995)\\n       If (feature 27 <= 0.18259999999999998)\\n        Predict: 0.0\\n       Else (feature 27 > 0.18259999999999998)\\n        Predict: 1.0\\n      Else (feature 21 > 32.504999999999995)\\n       If (feature 4 <= 0.099965)\\n        Predict: 0.0\\n       Else (feature 4 > 0.099965)\\n        Predict: 1.0\\n     Else (feature 23 > 823.05)\\n      If (feature 25 <= 0.2239)\\n       If (feature 14 <= 0.007376499999999999)\\n        Predict: 0.0\\n       Else (feature 14 > 0.007376499999999999)\\n        Predict: 1.0\\n      Else (feature 25 > 0.2239)\\n       If (feature 28 <= 0.25739999999999996)\\n        Predict: 0.0\\n       Else (feature 28 > 0.25739999999999996)\\n        Predict: 1.0\\n    Else (feature 13 > 38.959999999999994)\\n     If (feature 26 <= 0.1894)\\n      If (feature 15 <= 0.014735)\\n       If (feature 1 <= 13.295)\\n        Predict: 0.0\\n       Else (feature 1 > 13.295)\\n        Predict: 1.0\\n      Else (feature 15 > 0.014735)\\n       Predict: 0.0\\n     Else (feature 26 > 0.1894)\\n      If (feature 20 <= 16.060000000000002)\\n       Predict: 0.0\\n      Else (feature 20 > 16.060000000000002)\\n       Predict: 1.0\\n  Tree 30 (weight 1.0):\\n    If (feature 23 <= 861.75)\\n     If (feature 27 <= 0.18259999999999998)\\n      If (feature 10 <= 0.5500499999999999)\\n       If (feature 27 <= 0.11065)\\n        Predict: 0.0\\n       Else (feature 27 > 0.11065)\\n        If (feature 29 <= 0.072045)\\n         Predict: 1.0\\n        Else (feature 29 > 0.072045)\\n         Predict: 0.0\\n      Else (feature 10 > 0.5500499999999999)\\n       If (feature 15 <= 0.010964999999999999)\\n        Predict: 1.0\\n       Else (feature 15 > 0.010964999999999999)\\n        If (feature 2 <= 77.9)\\n         Predict: 0.0\\n        Else (feature 2 > 77.9)\\n         Predict: 1.0\\n     Else (feature 27 > 0.18259999999999998)\\n      Predict: 1.0\\n    Else (feature 23 > 861.75)\\n     If (feature 22 <= 114.8)\\n      If (feature 21 <= 21.83)\\n       Predict: 0.0\\n      Else (feature 21 > 21.83)\\n       If (feature 20 <= 16.765)\\n        Predict: 0.0\\n       Else (feature 20 > 16.765)\\n        Predict: 1.0\\n     Else (feature 22 > 114.8)\\n      If (feature 7 <= 0.053335)\\n       If (feature 14 <= 0.006033)\\n        Predict: 1.0\\n       Else (feature 14 > 0.006033)\\n        Predict: 0.0\\n      Else (feature 7 > 0.053335)\\n       Predict: 1.0\\n  Tree 31 (weight 1.0):\\n    If (feature 26 <= 0.31375)\\n     If (feature 27 <= 0.11065)\\n      If (feature 20 <= 17.384999999999998)\\n       Predict: 0.0\\n      Else (feature 20 > 17.384999999999998)\\n       If (feature 27 <= 0.084235)\\n        Predict: 0.0\\n       Else (feature 27 > 0.084235)\\n        Predict: 1.0\\n     Else (feature 27 > 0.11065)\\n      If (feature 9 <= 0.057005)\\n       Predict: 1.0\\n      Else (feature 9 > 0.057005)\\n       If (feature 19 <= 0.0021625)\\n        Predict: 1.0\\n       Else (feature 19 > 0.0021625)\\n        If (feature 23 <= 923.95)\\n         Predict: 0.0\\n        Else (feature 23 > 923.95)\\n         Predict: 1.0\\n    Else (feature 26 > 0.31375)\\n     If (feature 22 <= 101.95)\\n      If (feature 20 <= 12.825)\\n       Predict: 0.0\\n      Else (feature 20 > 12.825)\\n       If (feature 24 <= 0.1366)\\n        Predict: 0.0\\n       Else (feature 24 > 0.1366)\\n        Predict: 1.0\\n     Else (feature 22 > 101.95)\\n      If (feature 27 <= 0.14905000000000002)\\n       If (feature 16 <= 0.02691)\\n        Predict: 1.0\\n       Else (feature 16 > 0.02691)\\n        If (feature 18 <= 0.018755)\\n         Predict: 0.0\\n        Else (feature 18 > 0.018755)\\n         Predict: 1.0\\n      Else (feature 27 > 0.14905000000000002)\\n       Predict: 1.0\\n  Tree 32 (weight 1.0):\\n    If (feature 7 <= 0.053335)\\n     If (feature 3 <= 696.25)\\n      If (feature 28 <= 0.42669999999999997)\\n       If (feature 9 <= 0.057005)\\n        If (feature 7 <= 0.047885)\\n         Predict: 0.0\\n        Else (feature 7 > 0.047885)\\n         Predict: 1.0\\n       Else (feature 9 > 0.057005)\\n        Predict: 0.0\\n      Else (feature 28 > 0.42669999999999997)\\n       Predict: 1.0\\n     Else (feature 3 > 696.25)\\n      If (feature 29 <= 0.075955)\\n       If (feature 21 <= 28.689999999999998)\\n        If (feature 5 <= 0.08580499999999999)\\n         Predict: 0.0\\n        Else (feature 5 > 0.08580499999999999)\\n         Predict: 1.0\\n       Else (feature 21 > 28.689999999999998)\\n        Predict: 1.0\\n      Else (feature 29 > 0.075955)\\n       Predict: 1.0\\n    Else (feature 7 > 0.053335)\\n     If (feature 25 <= 0.14584999999999998)\\n      Predict: 0.0\\n     Else (feature 25 > 0.14584999999999998)\\n      If (feature 26 <= 0.22655)\\n       If (feature 23 <= 923.95)\\n        Predict: 0.0\\n       Else (feature 23 > 923.95)\\n        Predict: 1.0\\n      Else (feature 26 > 0.22655)\\n       If (feature 15 <= 0.04831)\\n        Predict: 1.0\\n       Else (feature 15 > 0.04831)\\n        If (feature 24 <= 0.13245)\\n         Predict: 0.0\\n        Else (feature 24 > 0.13245)\\n         Predict: 1.0\\n  Tree 33 (weight 1.0):\\n    If (feature 27 <= 0.14105)\\n     If (feature 22 <= 114.8)\\n      If (feature 2 <= 102.55)\\n       If (feature 10 <= 0.9435)\\n        Predict: 0.0\\n       Else (feature 10 > 0.9435)\\n        Predict: 1.0\\n      Else (feature 2 > 102.55)\\n       If (feature 16 <= 0.01983)\\n        Predict: 0.0\\n       Else (feature 16 > 0.01983)\\n        Predict: 1.0\\n     Else (feature 22 > 114.8)\\n      If (feature 26 <= 0.17665)\\n       If (feature 8 <= 0.1513)\\n        Predict: 0.0\\n       Else (feature 8 > 0.1513)\\n        Predict: 1.0\\n      Else (feature 26 > 0.17665)\\n       If (feature 25 <= 0.29485)\\n        Predict: 1.0\\n       Else (feature 25 > 0.29485)\\n        Predict: 0.0\\n    Else (feature 27 > 0.14105)\\n     If (feature 10 <= 0.28859999999999997)\\n      If (feature 21 <= 27.53)\\n       If (feature 27 <= 0.17454999999999998)\\n        Predict: 0.0\\n       Else (feature 27 > 0.17454999999999998)\\n        Predict: 1.0\\n      Else (feature 21 > 27.53)\\n       Predict: 1.0\\n     Else (feature 10 > 0.28859999999999997)\\n      If (feature 3 <= 321.4)\\n       Predict: 0.0\\n      Else (feature 3 > 321.4)\\n       If (feature 21 <= 23.880000000000003)\\n        If (feature 24 <= 0.09376000000000001)\\n         Predict: 0.0\\n        Else (feature 24 > 0.09376000000000001)\\n         Predict: 1.0\\n       Else (feature 21 > 23.880000000000003)\\n        Predict: 1.0\\n  Tree 34 (weight 1.0):\\n    If (feature 20 <= 16.765)\\n     If (feature 26 <= 0.36345)\\n      If (feature 12 <= 4.067)\\n       If (feature 27 <= 0.11065)\\n        Predict: 0.0\\n       Else (feature 27 > 0.11065)\\n        If (feature 29 <= 0.072045)\\n         Predict: 1.0\\n        Else (feature 29 > 0.072045)\\n         Predict: 0.0\\n      Else (feature 12 > 4.067)\\n       If (feature 1 <= 26.005)\\n        Predict: 1.0\\n       Else (feature 1 > 26.005)\\n        Predict: 0.0\\n     Else (feature 26 > 0.36345)\\n      If (feature 2 <= 86.945)\\n       If (feature 27 <= 0.18259999999999998)\\n        Predict: 0.0\\n       Else (feature 27 > 0.18259999999999998)\\n        Predict: 1.0\\n      Else (feature 2 > 86.945)\\n       If (feature 4 <= 0.09773499999999999)\\n        Predict: 0.0\\n       Else (feature 4 > 0.09773499999999999)\\n        Predict: 1.0\\n    Else (feature 20 > 16.765)\\n     If (feature 4 <= 0.079315)\\n      Predict: 0.0\\n     Else (feature 4 > 0.079315)\\n      If (feature 13 <= 15.29)\\n       Predict: 0.0\\n      Else (feature 13 > 15.29)\\n       If (feature 2 <= 94.485)\\n        If (feature 2 <= 91.905)\\n         Predict: 1.0\\n        Else (feature 2 > 91.905)\\n         Predict: 0.0\\n       Else (feature 2 > 94.485)\\n        Predict: 1.0\\n  Tree 35 (weight 1.0):\\n    If (feature 22 <= 114.8)\\n     If (feature 25 <= 0.35685)\\n      If (feature 6 <= 0.08435000000000001)\\n       If (feature 10 <= 0.70165)\\n        Predict: 0.0\\n       Else (feature 10 > 0.70165)\\n        Predict: 1.0\\n      Else (feature 6 > 0.08435000000000001)\\n       If (feature 23 <= 823.05)\\n        If (feature 15 <= 0.018135)\\n         Predict: 1.0\\n        Else (feature 15 > 0.018135)\\n         Predict: 0.0\\n       Else (feature 23 > 823.05)\\n        If (feature 21 <= 16.075)\\n         Predict: 0.0\\n        Else (feature 21 > 16.075)\\n         Predict: 1.0\\n     Else (feature 25 > 0.35685)\\n      If (feature 16 <= 0.059844999999999995)\\n       If (feature 1 <= 16.0)\\n        If (feature 27 <= 0.17454999999999998)\\n         Predict: 0.0\\n        Else (feature 27 > 0.17454999999999998)\\n         Predict: 1.0\\n       Else (feature 1 > 16.0)\\n        Predict: 1.0\\n      Else (feature 16 > 0.059844999999999995)\\n       Predict: 0.0\\n    Else (feature 22 > 114.8)\\n     If (feature 4 <= 0.08341499999999999)\\n      If (feature 10 <= 0.50895)\\n       Predict: 0.0\\n      Else (feature 10 > 0.50895)\\n       Predict: 1.0\\n     Else (feature 4 > 0.08341499999999999)\\n      If (feature 29 <= 0.065585)\\n       If (feature 8 <= 0.1513)\\n        Predict: 0.0\\n       Else (feature 8 > 0.1513)\\n        Predict: 1.0\\n      Else (feature 29 > 0.065585)\\n       Predict: 1.0\\n  Tree 36 (weight 1.0):\\n    If (feature 22 <= 113.15)\\n     If (feature 27 <= 0.14905000000000002)\\n      If (feature 1 <= 21.365000000000002)\\n       If (feature 24 <= 0.179)\\n        Predict: 0.0\\n       Else (feature 24 > 0.179)\\n        If (feature 6 <= 0.035865)\\n         Predict: 0.0\\n        Else (feature 6 > 0.035865)\\n         Predict: 1.0\\n      Else (feature 1 > 21.365000000000002)\\n       If (feature 3 <= 558.6500000000001)\\n        Predict: 0.0\\n       Else (feature 3 > 558.6500000000001)\\n        If (feature 21 <= 30.265)\\n         Predict: 1.0\\n        Else (feature 21 > 30.265)\\n         Predict: 0.0\\n     Else (feature 27 > 0.14905000000000002)\\n      If (feature 23 <= 411.70000000000005)\\n       Predict: 0.0\\n      Else (feature 23 > 411.70000000000005)\\n       If (feature 28 <= 0.2399)\\n        Predict: 0.0\\n       Else (feature 28 > 0.2399)\\n        Predict: 1.0\\n    Else (feature 22 > 113.15)\\n     If (feature 1 <= 14.08)\\n      If (feature 27 <= 0.11825)\\n       Predict: 0.0\\n      Else (feature 27 > 0.11825)\\n       Predict: 1.0\\n     Else (feature 1 > 14.08)\\n      If (feature 7 <= 0.053335)\\n       If (feature 17 <= 0.010535)\\n        Predict: 1.0\\n       Else (feature 17 > 0.010535)\\n        If (feature 7 <= 0.04289)\\n         Predict: 0.0\\n        Else (feature 7 > 0.04289)\\n         Predict: 1.0\\n      Else (feature 7 > 0.053335)\\n       Predict: 1.0\\n  Tree 37 (weight 1.0):\\n    If (feature 20 <= 16.765)\\n     If (feature 7 <= 0.053335)\\n      If (feature 22 <= 101.95)\\n       If (feature 10 <= 0.63295)\\n        Predict: 0.0\\n       Else (feature 10 > 0.63295)\\n        Predict: 1.0\\n      Else (feature 22 > 101.95)\\n       If (feature 29 <= 0.072045)\\n        If (feature 1 <= 20.549999999999997)\\n         Predict: 0.0\\n        Else (feature 1 > 20.549999999999997)\\n         Predict: 1.0\\n       Else (feature 29 > 0.072045)\\n        Predict: 0.0\\n     Else (feature 7 > 0.053335)\\n      If (feature 29 <= 0.07852999999999999)\\n       If (feature 19 <= 0.0021625)\\n        Predict: 1.0\\n       Else (feature 19 > 0.0021625)\\n        Predict: 0.0\\n      Else (feature 29 > 0.07852999999999999)\\n       If (feature 21 <= 23.215)\\n        Predict: 0.0\\n       Else (feature 21 > 23.215)\\n        If (feature 8 <= 0.17435)\\n         Predict: 0.0\\n        Else (feature 8 > 0.17435)\\n         Predict: 1.0\\n    Else (feature 20 > 16.765)\\n     If (feature 21 <= 16.075)\\n      Predict: 0.0\\n     Else (feature 21 > 16.075)\\n      If (feature 27 <= 0.08968000000000001)\\n       If (feature 0 <= 15.495000000000001)\\n        Predict: 1.0\\n       Else (feature 0 > 15.495000000000001)\\n        Predict: 0.0\\n      Else (feature 27 > 0.08968000000000001)\\n       If (feature 16 <= 0.018575)\\n        If (feature 21 <= 19.54)\\n         Predict: 0.0\\n        Else (feature 21 > 19.54)\\n         Predict: 1.0\\n       Else (feature 16 > 0.018575)\\n        Predict: 1.0\\n  Tree 38 (weight 1.0):\\n    If (feature 23 <= 823.05)\\n     If (feature 21 <= 33.435)\\n      If (feature 27 <= 0.18259999999999998)\\n       If (feature 22 <= 101.95)\\n        Predict: 0.0\\n       Else (feature 22 > 101.95)\\n        If (feature 1 <= 20.549999999999997)\\n         Predict: 0.0\\n        Else (feature 1 > 20.549999999999997)\\n         Predict: 1.0\\n      Else (feature 27 > 0.18259999999999998)\\n       Predict: 1.0\\n     Else (feature 21 > 33.435)\\n      If (feature 8 <= 0.1706)\\n       Predict: 0.0\\n      Else (feature 8 > 0.1706)\\n       Predict: 1.0\\n    Else (feature 23 > 823.05)\\n     If (feature 26 <= 0.22655)\\n      If (feature 22 <= 128.35)\\n       Predict: 0.0\\n      Else (feature 22 > 128.35)\\n       Predict: 1.0\\n     Else (feature 26 > 0.22655)\\n      If (feature 13 <= 14.094999999999999)\\n       Predict: 0.0\\n      Else (feature 13 > 14.094999999999999)\\n       If (feature 22 <= 113.15)\\n        If (feature 6 <= 0.074405)\\n         Predict: 0.0\\n        Else (feature 6 > 0.074405)\\n         Predict: 1.0\\n       Else (feature 22 > 113.15)\\n        Predict: 1.0\\n  Tree 39 (weight 1.0):\\n    If (feature 3 <= 696.25)\\n     If (feature 5 <= 0.13035)\\n      If (feature 6 <= 0.1175)\\n       If (feature 20 <= 16.765)\\n        Predict: 0.0\\n       Else (feature 20 > 16.765)\\n        If (feature 17 <= 0.009901)\\n         Predict: 1.0\\n        Else (feature 17 > 0.009901)\\n         Predict: 0.0\\n      Else (feature 6 > 0.1175)\\n       Predict: 1.0\\n     Else (feature 5 > 0.13035)\\n      If (feature 24 <= 0.1366)\\n       Predict: 0.0\\n      Else (feature 24 > 0.1366)\\n       If (feature 27 <= 0.14905000000000002)\\n        Predict: 0.0\\n       Else (feature 27 > 0.14905000000000002)\\n        If (feature 12 <= 1.9255)\\n         Predict: 0.0\\n        Else (feature 12 > 1.9255)\\n         Predict: 1.0\\n    Else (feature 3 > 696.25)\\n     If (feature 28 <= 0.19874999999999998)\\n      Predict: 0.0\\n     Else (feature 28 > 0.19874999999999998)\\n      If (feature 26 <= 0.1894)\\n       If (feature 1 <= 19.575)\\n        Predict: 0.0\\n       Else (feature 1 > 19.575)\\n        Predict: 1.0\\n      Else (feature 26 > 0.1894)\\n       If (feature 15 <= 0.01934)\\n        If (feature 20 <= 17.384999999999998)\\n         Predict: 0.0\\n        Else (feature 20 > 17.384999999999998)\\n         Predict: 1.0\\n       Else (feature 15 > 0.01934)\\n        Predict: 1.0\\n  Tree 40 (weight 1.0):\\n    If (feature 27 <= 0.14105)\\n     If (feature 23 <= 923.95)\\n      If (feature 27 <= 0.1313)\\n       If (feature 27 <= 0.11065)\\n        Predict: 0.0\\n       Else (feature 27 > 0.11065)\\n        If (feature 19 <= 0.0014334999999999999)\\n         Predict: 1.0\\n        Else (feature 19 > 0.0014334999999999999)\\n         Predict: 0.0\\n      Else (feature 27 > 0.1313)\\n       If (feature 2 <= 84.065)\\n        Predict: 0.0\\n       Else (feature 2 > 84.065)\\n        Predict: 1.0\\n     Else (feature 23 > 923.95)\\n      If (feature 11 <= 0.48824999999999996)\\n       Predict: 0.0\\n      Else (feature 11 > 0.48824999999999996)\\n       If (feature 15 <= 0.01548)\\n        If (feature 19 <= 0.0014334999999999999)\\n         Predict: 0.0\\n        Else (feature 19 > 0.0014334999999999999)\\n         Predict: 1.0\\n       Else (feature 15 > 0.01548)\\n        If (feature 0 <= 17.04)\\n         Predict: 0.0\\n        Else (feature 0 > 17.04)\\n         Predict: 1.0\\n    Else (feature 27 > 0.14105)\\n     If (feature 13 <= 14.094999999999999)\\n      Predict: 0.0\\n     Else (feature 13 > 14.094999999999999)\\n      If (feature 24 <= 0.09376000000000001)\\n       Predict: 0.0\\n      Else (feature 24 > 0.09376000000000001)\\n       If (feature 5 <= 0.11399999999999999)\\n        If (feature 20 <= 16.765)\\n         Predict: 0.0\\n        Else (feature 20 > 16.765)\\n         Predict: 1.0\\n       Else (feature 5 > 0.11399999999999999)\\n        Predict: 1.0\\n  Tree 41 (weight 1.0):\\n    If (feature 27 <= 0.14105)\\n     If (feature 7 <= 0.047885)\\n      If (feature 23 <= 923.95)\\n       If (feature 1 <= 22.09)\\n        Predict: 0.0\\n       Else (feature 1 > 22.09)\\n        If (feature 20 <= 16.765)\\n         Predict: 0.0\\n        Else (feature 20 > 16.765)\\n         Predict: 1.0\\n      Else (feature 23 > 923.95)\\n       If (feature 1 <= 13.295)\\n        Predict: 0.0\\n       Else (feature 1 > 13.295)\\n        Predict: 1.0\\n     Else (feature 7 > 0.047885)\\n      If (feature 22 <= 99.57)\\n       Predict: 0.0\\n      Else (feature 22 > 99.57)\\n       If (feature 11 <= 0.819)\\n        Predict: 0.0\\n       Else (feature 11 > 0.819)\\n        Predict: 1.0\\n    Else (feature 27 > 0.14105)\\n     If (feature 2 <= 65.53)\\n      Predict: 0.0\\n     Else (feature 2 > 65.53)\\n      If (feature 26 <= 0.20875)\\n       Predict: 0.0\\n      Else (feature 26 > 0.20875)\\n       If (feature 27 <= 0.14905000000000002)\\n        If (feature 0 <= 13.614999999999998)\\n         Predict: 0.0\\n        Else (feature 0 > 13.614999999999998)\\n         Predict: 1.0\\n       Else (feature 27 > 0.14905000000000002)\\n        Predict: 1.0\\n  Tree 42 (weight 1.0):\\n    If (feature 22 <= 101.95)\\n     If (feature 27 <= 0.18259999999999998)\\n      Predict: 0.0\\n     Else (feature 27 > 0.18259999999999998)\\n      Predict: 1.0\\n    Else (feature 22 > 101.95)\\n     If (feature 10 <= 0.35509999999999997)\\n      If (feature 4 <= 0.089275)\\n       If (feature 20 <= 17.384999999999998)\\n        Predict: 0.0\\n       Else (feature 20 > 17.384999999999998)\\n        Predict: 1.0\\n      Else (feature 4 > 0.089275)\\n       If (feature 21 <= 21.83)\\n        Predict: 0.0\\n       Else (feature 21 > 21.83)\\n        If (feature 9 <= 0.055935)\\n         Predict: 0.0\\n        Else (feature 9 > 0.055935)\\n         Predict: 1.0\\n     Else (feature 10 > 0.35509999999999997)\\n      If (feature 8 <= 0.14300000000000002)\\n       Predict: 0.0\\n      Else (feature 8 > 0.14300000000000002)\\n       If (feature 20 <= 16.765)\\n        If (feature 24 <= 0.13245)\\n         Predict: 0.0\\n        Else (feature 24 > 0.13245)\\n         Predict: 1.0\\n       Else (feature 20 > 16.765)\\n        Predict: 1.0\\n  Tree 43 (weight 1.0):\\n    If (feature 22 <= 101.95)\\n     If (feature 8 <= 0.2411)\\n      If (feature 12 <= 4.816)\\n       If (feature 24 <= 0.179)\\n        Predict: 0.0\\n       Else (feature 24 > 0.179)\\n        Predict: 1.0\\n      Else (feature 12 > 4.816)\\n       Predict: 1.0\\n     Else (feature 8 > 0.2411)\\n      If (feature 13 <= 25.5)\\n       Predict: 1.0\\n      Else (feature 13 > 25.5)\\n       Predict: 0.0\\n    Else (feature 22 > 101.95)\\n     If (feature 7 <= 0.04289)\\n      If (feature 15 <= 0.014735)\\n       If (feature 24 <= 0.10464999999999999)\\n        If (feature 15 <= 0.009174999999999999)\\n         Predict: 0.0\\n        Else (feature 15 > 0.009174999999999999)\\n         Predict: 1.0\\n       Else (feature 24 > 0.10464999999999999)\\n        Predict: 1.0\\n      Else (feature 15 > 0.014735)\\n       Predict: 0.0\\n     Else (feature 7 > 0.04289)\\n      If (feature 22 <= 114.8)\\n       If (feature 21 <= 19.54)\\n        Predict: 0.0\\n       Else (feature 21 > 19.54)\\n        Predict: 1.0\\n      Else (feature 22 > 114.8)\\n       If (feature 26 <= 0.17665)\\n        Predict: 0.0\\n       Else (feature 26 > 0.17665)\\n        Predict: 1.0\\n  Tree 44 (weight 1.0):\\n    If (feature 25 <= 0.25585)\\n     If (feature 23 <= 861.75)\\n      If (feature 23 <= 782.85)\\n       If (feature 18 <= 0.011085000000000001)\\n        Predict: 1.0\\n       Else (feature 18 > 0.011085000000000001)\\n        Predict: 0.0\\n      Else (feature 23 > 782.85)\\n       If (feature 27 <= 0.11065)\\n        Predict: 0.0\\n       Else (feature 27 > 0.11065)\\n        If (feature 2 <= 102.55)\\n         Predict: 1.0\\n        Else (feature 2 > 102.55)\\n         Predict: 0.0\\n     Else (feature 23 > 861.75)\\n      If (feature 3 <= 908.6500000000001)\\n       If (feature 27 <= 0.10475000000000001)\\n        If (feature 6 <= 0.08435000000000001)\\n         Predict: 0.0\\n        Else (feature 6 > 0.08435000000000001)\\n         Predict: 1.0\\n       Else (feature 27 > 0.10475000000000001)\\n        Predict: 1.0\\n      Else (feature 3 > 908.6500000000001)\\n       Predict: 1.0\\n    Else (feature 25 > 0.25585)\\n     If (feature 7 <= 0.053335)\\n      If (feature 23 <= 923.95)\\n       If (feature 18 <= 0.013455)\\n        If (feature 10 <= 0.23445)\\n         Predict: 1.0\\n        Else (feature 10 > 0.23445)\\n         Predict: 0.0\\n       Else (feature 18 > 0.013455)\\n        Predict: 0.0\\n      Else (feature 23 > 923.95)\\n       Predict: 1.0\\n     Else (feature 7 > 0.053335)\\n      If (feature 1 <= 16.75)\\n       If (feature 27 <= 0.16565)\\n        Predict: 0.0\\n       Else (feature 27 > 0.16565)\\n        Predict: 1.0\\n      Else (feature 1 > 16.75)\\n       If (feature 24 <= 0.09376000000000001)\\n        Predict: 0.0\\n       Else (feature 24 > 0.09376000000000001)\\n        Predict: 1.0\\n  Tree 45 (weight 1.0):\\n    If (feature 23 <= 823.05)\\n     If (feature 27 <= 0.14905000000000002)\\n      If (feature 23 <= 782.85)\\n       If (feature 13 <= 43.675)\\n        Predict: 0.0\\n       Else (feature 13 > 43.675)\\n        If (feature 14 <= 0.005601500000000001)\\n         Predict: 1.0\\n        Else (feature 14 > 0.005601500000000001)\\n         Predict: 0.0\\n      Else (feature 23 > 782.85)\\n       If (feature 1 <= 20.549999999999997)\\n        Predict: 0.0\\n       Else (feature 1 > 20.549999999999997)\\n        Predict: 1.0\\n     Else (feature 27 > 0.14905000000000002)\\n      If (feature 22 <= 97.97999999999999)\\n       Predict: 0.0\\n      Else (feature 22 > 97.97999999999999)\\n       Predict: 1.0\\n    Else (feature 23 > 823.05)\\n     If (feature 7 <= 0.04289)\\n      If (feature 28 <= 0.31755)\\n       If (feature 2 <= 86.945)\\n        If (feature 10 <= 0.41290000000000004)\\n         Predict: 0.0\\n        Else (feature 10 > 0.41290000000000004)\\n         Predict: 1.0\\n       Else (feature 2 > 86.945)\\n        Predict: 0.0\\n      Else (feature 28 > 0.31755)\\n       Predict: 1.0\\n     Else (feature 7 > 0.04289)\\n      If (feature 11 <= 0.6334)\\n       If (feature 20 <= 17.384999999999998)\\n        Predict: 0.0\\n       Else (feature 20 > 17.384999999999998)\\n        Predict: 1.0\\n      Else (feature 11 > 0.6334)\\n       If (feature 5 <= 0.08580499999999999)\\n        If (feature 12 <= 2.3449999999999998)\\n         Predict: 0.0\\n        Else (feature 12 > 2.3449999999999998)\\n         Predict: 1.0\\n       Else (feature 5 > 0.08580499999999999)\\n        Predict: 1.0\\n  Tree 46 (weight 1.0):\\n    If (feature 22 <= 113.15)\\n     If (feature 13 <= 38.959999999999994)\\n      If (feature 6 <= 0.093405)\\n       If (feature 9 <= 0.054974999999999996)\\n        If (feature 6 <= 0.038885)\\n         Predict: 0.0\\n        Else (feature 6 > 0.038885)\\n         Predict: 1.0\\n       Else (feature 9 > 0.054974999999999996)\\n        Predict: 0.0\\n      Else (feature 6 > 0.093405)\\n       If (feature 21 <= 25.740000000000002)\\n        If (feature 24 <= 0.179)\\n         Predict: 0.0\\n        Else (feature 24 > 0.179)\\n         Predict: 1.0\\n       Else (feature 21 > 25.740000000000002)\\n        If (feature 8 <= 0.1484)\\n         Predict: 0.0\\n        Else (feature 8 > 0.1484)\\n         Predict: 1.0\\n     Else (feature 13 > 38.959999999999994)\\n      If (feature 15 <= 0.01548)\\n       Predict: 1.0\\n      Else (feature 15 > 0.01548)\\n       If (feature 6 <= 0.1015)\\n        Predict: 0.0\\n       Else (feature 6 > 0.1015)\\n        If (feature 8 <= 0.17204999999999998)\\n         Predict: 0.0\\n        Else (feature 8 > 0.17204999999999998)\\n         Predict: 1.0\\n    Else (feature 22 > 113.15)\\n     If (feature 26 <= 0.1894)\\n      Predict: 0.0\\n     Else (feature 26 > 0.1894)\\n      If (feature 5 <= 0.06318499999999999)\\n       Predict: 0.0\\n      Else (feature 5 > 0.06318499999999999)\\n       If (feature 3 <= 558.6500000000001)\\n        If (feature 18 <= 0.015555)\\n         Predict: 0.0\\n        Else (feature 18 > 0.015555)\\n         Predict: 1.0\\n       Else (feature 3 > 558.6500000000001)\\n        If (feature 6 <= 0.050034999999999996)\\n         Predict: 0.0\\n        Else (feature 6 > 0.050034999999999996)\\n         Predict: 1.0\\n  Tree 47 (weight 1.0):\\n    If (feature 27 <= 0.14105)\\n     If (feature 23 <= 923.95)\\n      If (feature 10 <= 0.63295)\\n       If (feature 26 <= 0.26144999999999996)\\n        Predict: 0.0\\n       Else (feature 26 > 0.26144999999999996)\\n        If (feature 23 <= 666.75)\\n         Predict: 0.0\\n        Else (feature 23 > 666.75)\\n         Predict: 1.0\\n      Else (feature 10 > 0.63295)\\n       If (feature 7 <= 0.03758)\\n        Predict: 1.0\\n       Else (feature 7 > 0.03758)\\n        Predict: 0.0\\n     Else (feature 23 > 923.95)\\n      If (feature 8 <= 0.1378)\\n       Predict: 0.0\\n      Else (feature 8 > 0.1378)\\n       If (feature 1 <= 19.575)\\n        If (feature 19 <= 0.001591)\\n         Predict: 0.0\\n        Else (feature 19 > 0.001591)\\n         Predict: 1.0\\n       Else (feature 1 > 19.575)\\n        Predict: 1.0\\n    Else (feature 27 > 0.14105)\\n     If (feature 22 <= 97.97999999999999)\\n      If (feature 17 <= 0.010535)\\n       Predict: 1.0\\n      Else (feature 17 > 0.010535)\\n       If (feature 16 <= 0.04715)\\n        If (feature 0 <= 11.879999999999999)\\n         Predict: 1.0\\n        Else (feature 0 > 11.879999999999999)\\n         Predict: 0.0\\n       Else (feature 16 > 0.04715)\\n        Predict: 0.0\\n     Else (feature 22 > 97.97999999999999)\\n      If (feature 26 <= 0.1894)\\n       Predict: 0.0\\n      Else (feature 26 > 0.1894)\\n       If (feature 27 <= 0.14905000000000002)\\n        If (feature 20 <= 16.765)\\n         Predict: 0.0\\n        Else (feature 20 > 16.765)\\n         Predict: 1.0\\n       Else (feature 27 > 0.14905000000000002)\\n        Predict: 1.0\\n  Tree 48 (weight 1.0):\\n    If (feature 0 <= 15.025)\\n     If (feature 26 <= 0.36345)\\n      If (feature 13 <= 32.535)\\n       Predict: 0.0\\n      Else (feature 13 > 32.535)\\n       If (feature 22 <= 101.95)\\n        Predict: 0.0\\n       Else (feature 22 > 101.95)\\n        If (feature 16 <= 0.037335)\\n         Predict: 1.0\\n        Else (feature 16 > 0.037335)\\n         Predict: 0.0\\n     Else (feature 26 > 0.36345)\\n      If (feature 7 <= 0.053335)\\n       If (feature 14 <= 0.004215)\\n        Predict: 1.0\\n       Else (feature 14 > 0.004215)\\n        Predict: 0.0\\n      Else (feature 7 > 0.053335)\\n       If (feature 24 <= 0.11435000000000001)\\n        Predict: 0.0\\n       Else (feature 24 > 0.11435000000000001)\\n        Predict: 1.0\\n    Else (feature 0 > 15.025)\\n     If (feature 19 <= 0.0018024999999999998)\\n      If (feature 1 <= 13.295)\\n       Predict: 0.0\\n      Else (feature 1 > 13.295)\\n       Predict: 1.0\\n     Else (feature 19 > 0.0018024999999999998)\\n      If (feature 6 <= 0.06695000000000001)\\n       Predict: 0.0\\n      Else (feature 6 > 0.06695000000000001)\\n       If (feature 13 <= 28.490000000000002)\\n        If (feature 24 <= 0.12240000000000001)\\n         Predict: 0.0\\n        Else (feature 24 > 0.12240000000000001)\\n         Predict: 1.0\\n       Else (feature 13 > 28.490000000000002)\\n        Predict: 1.0\\n  Tree 49 (weight 1.0):\\n    If (feature 7 <= 0.047885)\\n     If (feature 12 <= 4.3075)\\n      If (feature 23 <= 923.95)\\n       Predict: 0.0\\n      Else (feature 23 > 923.95)\\n       If (feature 15 <= 0.014735)\\n        If (feature 18 <= 0.013455)\\n         Predict: 0.0\\n        Else (feature 18 > 0.013455)\\n         Predict: 1.0\\n       Else (feature 15 > 0.014735)\\n        Predict: 0.0\\n     Else (feature 12 > 4.3075)\\n      Predict: 1.0\\n    Else (feature 7 > 0.047885)\\n     If (feature 2 <= 97.92)\\n      If (feature 27 <= 0.15635)\\n       If (feature 1 <= 20.915)\\n        Predict: 0.0\\n       Else (feature 1 > 20.915)\\n        Predict: 1.0\\n      Else (feature 27 > 0.15635)\\n       If (feature 0 <= 9.7485)\\n        Predict: 0.0\\n       Else (feature 0 > 9.7485)\\n        If (feature 12 <= 1.5585)\\n         Predict: 0.0\\n        Else (feature 12 > 1.5585)\\n         Predict: 1.0\\n     Else (feature 2 > 97.92)\\n      If (feature 22 <= 114.8)\\n       If (feature 27 <= 0.10475000000000001)\\n        Predict: 1.0\\n       Else (feature 27 > 0.10475000000000001)\\n        Predict: 0.0\\n      Else (feature 22 > 114.8)\\n       Predict: 1.0\\n  Tree 50 (weight 1.0):\\n    If (feature 2 <= 96.405)\\n     If (feature 23 <= 743.45)\\n      If (feature 27 <= 0.16565)\\n       Predict: 0.0\\n      Else (feature 27 > 0.16565)\\n       If (feature 4 <= 0.1081)\\n        Predict: 0.0\\n       Else (feature 4 > 0.1081)\\n        Predict: 1.0\\n     Else (feature 23 > 743.45)\\n      If (feature 26 <= 0.26144999999999996)\\n       If (feature 21 <= 28.689999999999998)\\n        Predict: 0.0\\n       Else (feature 21 > 28.689999999999998)\\n        Predict: 1.0\\n      Else (feature 26 > 0.26144999999999996)\\n       If (feature 19 <= 0.005892)\\n        If (feature 21 <= 21.83)\\n         Predict: 0.0\\n        Else (feature 21 > 21.83)\\n         Predict: 1.0\\n       Else (feature 19 > 0.005892)\\n        If (feature 0 <= 14.085)\\n         Predict: 1.0\\n        Else (feature 0 > 14.085)\\n         Predict: 0.0\\n    Else (feature 2 > 96.405)\\n     If (feature 11 <= 0.48824999999999996)\\n      Predict: 0.0\\n     Else (feature 11 > 0.48824999999999996)\\n      If (feature 4 <= 0.08172)\\n       If (feature 7 <= 0.04289)\\n        Predict: 0.0\\n       Else (feature 7 > 0.04289)\\n        Predict: 1.0\\n      Else (feature 4 > 0.08172)\\n       If (feature 22 <= 122.25)\\n        If (feature 10 <= 0.43389999999999995)\\n         Predict: 0.0\\n        Else (feature 10 > 0.43389999999999995)\\n         Predict: 1.0\\n       Else (feature 22 > 122.25)\\n        Predict: 1.0\\n  Tree 51 (weight 1.0):\\n    If (feature 20 <= 16.765)\\n     If (feature 7 <= 0.047885)\\n      If (feature 0 <= 14.77)\\n       Predict: 0.0\\n      Else (feature 0 > 14.77)\\n       If (feature 22 <= 96.53999999999999)\\n        Predict: 1.0\\n       Else (feature 22 > 96.53999999999999)\\n        Predict: 0.0\\n     Else (feature 7 > 0.047885)\\n      If (feature 26 <= 0.36345)\\n       If (feature 1 <= 20.915)\\n        Predict: 0.0\\n       Else (feature 1 > 20.915)\\n        Predict: 1.0\\n      Else (feature 26 > 0.36345)\\n       If (feature 16 <= 0.09362000000000001)\\n        Predict: 1.0\\n       Else (feature 16 > 0.09362000000000001)\\n        Predict: 0.0\\n    Else (feature 20 > 16.765)\\n     If (feature 13 <= 15.29)\\n      Predict: 0.0\\n     Else (feature 13 > 15.29)\\n      If (feature 21 <= 16.075)\\n       Predict: 0.0\\n      Else (feature 21 > 16.075)\\n       If (feature 25 <= 0.20425)\\n        If (feature 1 <= 14.805)\\n         Predict: 0.0\\n        Else (feature 1 > 14.805)\\n         Predict: 1.0\\n       Else (feature 25 > 0.20425)\\n        Predict: 1.0\\n  Tree 52 (weight 1.0):\\n    If (feature 23 <= 823.05)\\n     If (feature 4 <= 0.1179)\\n      If (feature 27 <= 0.18259999999999998)\\n       If (feature 10 <= 0.9435)\\n        Predict: 0.0\\n       Else (feature 10 > 0.9435)\\n        Predict: 1.0\\n      Else (feature 27 > 0.18259999999999998)\\n       Predict: 1.0\\n     Else (feature 4 > 0.1179)\\n      If (feature 24 <= 0.179)\\n       If (feature 27 <= 0.1313)\\n        Predict: 0.0\\n       Else (feature 27 > 0.1313)\\n        Predict: 1.0\\n      Else (feature 24 > 0.179)\\n       If (feature 7 <= 0.024405)\\n        Predict: 0.0\\n       Else (feature 7 > 0.024405)\\n        Predict: 1.0\\n    Else (feature 23 > 823.05)\\n     If (feature 22 <= 114.8)\\n      If (feature 6 <= 0.08435000000000001)\\n       If (feature 28 <= 0.31115000000000004)\\n        Predict: 0.0\\n       Else (feature 28 > 0.31115000000000004)\\n        Predict: 1.0\\n      Else (feature 6 > 0.08435000000000001)\\n       Predict: 1.0\\n     Else (feature 22 > 114.8)\\n      If (feature 8 <= 0.1513)\\n       If (feature 25 <= 0.1704)\\n        Predict: 0.0\\n       Else (feature 25 > 0.1704)\\n        Predict: 1.0\\n      Else (feature 8 > 0.1513)\\n       Predict: 1.0\\n  Tree 53 (weight 1.0):\\n    If (feature 10 <= 0.4667)\\n     If (feature 22 <= 101.95)\\n      If (feature 20 <= 14.43)\\n       Predict: 0.0\\n      Else (feature 20 > 14.43)\\n       If (feature 21 <= 30.265)\\n        Predict: 0.0\\n       Else (feature 21 > 30.265)\\n        If (feature 28 <= 0.26959999999999995)\\n         Predict: 0.0\\n        Else (feature 28 > 0.26959999999999995)\\n         Predict: 1.0\\n     Else (feature 22 > 101.95)\\n      If (feature 27 <= 0.15635)\\n       If (feature 22 <= 114.8)\\n        If (feature 18 <= 0.01481)\\n         Predict: 1.0\\n        Else (feature 18 > 0.01481)\\n         Predict: 0.0\\n       Else (feature 22 > 114.8)\\n        Predict: 1.0\\n      Else (feature 27 > 0.15635)\\n       Predict: 1.0\\n    Else (feature 10 > 0.4667)\\n     If (feature 23 <= 823.05)\\n      If (feature 25 <= 0.3796)\\n       If (feature 27 <= 0.07419)\\n        If (feature 13 <= 32.535)\\n         Predict: 0.0\\n        Else (feature 13 > 32.535)\\n         Predict: 1.0\\n       Else (feature 27 > 0.07419)\\n        Predict: 0.0\\n      Else (feature 25 > 0.3796)\\n       Predict: 1.0\\n     Else (feature 23 > 823.05)\\n      If (feature 29 <= 0.060289999999999996)\\n       If (feature 28 <= 0.25345)\\n        Predict: 0.0\\n       Else (feature 28 > 0.25345)\\n        Predict: 1.0\\n      Else (feature 29 > 0.060289999999999996)\\n       Predict: 1.0\\n  Tree 54 (weight 1.0):\\n    If (feature 22 <= 101.95)\\n     If (feature 25 <= 0.4486)\\n      If (feature 3 <= 696.25)\\n       If (feature 26 <= 0.36345)\\n        Predict: 0.0\\n       Else (feature 26 > 0.36345)\\n        If (feature 25 <= 0.27665)\\n         Predict: 1.0\\n        Else (feature 25 > 0.27665)\\n         Predict: 0.0\\n      Else (feature 3 > 696.25)\\n       Predict: 1.0\\n     Else (feature 25 > 0.4486)\\n      Predict: 1.0\\n    Else (feature 22 > 101.95)\\n     If (feature 3 <= 696.25)\\n      If (feature 6 <= 0.11074999999999999)\\n       If (feature 24 <= 0.13479999999999998)\\n        Predict: 0.0\\n       Else (feature 24 > 0.13479999999999998)\\n        Predict: 1.0\\n      Else (feature 6 > 0.11074999999999999)\\n       If (feature 15 <= 0.070405)\\n        If (feature 21 <= 19.064999999999998)\\n         Predict: 0.0\\n        Else (feature 21 > 19.064999999999998)\\n         Predict: 1.0\\n       Else (feature 15 > 0.070405)\\n        Predict: 0.0\\n     Else (feature 3 > 696.25)\\n      If (feature 13 <= 28.490000000000002)\\n       If (feature 1 <= 16.34)\\n        Predict: 0.0\\n       Else (feature 1 > 16.34)\\n        Predict: 1.0\\n      Else (feature 13 > 28.490000000000002)\\n       If (feature 8 <= 0.1378)\\n        Predict: 0.0\\n       Else (feature 8 > 0.1378)\\n        Predict: 1.0\\n  Tree 55 (weight 1.0):\\n    If (feature 22 <= 114.8)\\n     If (feature 26 <= 0.31375)\\n      If (feature 2 <= 102.55)\\n       Predict: 0.0\\n      Else (feature 2 > 102.55)\\n       If (feature 0 <= 16.15)\\n        Predict: 1.0\\n       Else (feature 0 > 16.15)\\n        Predict: 0.0\\n     Else (feature 26 > 0.31375)\\n      If (feature 27 <= 0.14905000000000002)\\n       If (feature 15 <= 0.018135)\\n        If (feature 1 <= 16.0)\\n         Predict: 0.0\\n        Else (feature 1 > 16.0)\\n         Predict: 1.0\\n       Else (feature 15 > 0.018135)\\n        If (feature 25 <= 0.20425)\\n         Predict: 1.0\\n        Else (feature 25 > 0.20425)\\n         Predict: 0.0\\n      Else (feature 27 > 0.14905000000000002)\\n       If (feature 0 <= 11.07)\\n        Predict: 0.0\\n       Else (feature 0 > 11.07)\\n        Predict: 1.0\\n    Else (feature 22 > 114.8)\\n     If (feature 24 <= 0.10155)\\n      If (feature 22 <= 128.35)\\n       Predict: 0.0\\n      Else (feature 22 > 128.35)\\n       Predict: 1.0\\n     Else (feature 24 > 0.10155)\\n      If (feature 4 <= 0.08341499999999999)\\n       If (feature 0 <= 13.445)\\n        Predict: 0.0\\n       Else (feature 0 > 13.445)\\n        Predict: 1.0\\n      Else (feature 4 > 0.08341499999999999)\\n       Predict: 1.0\\n  Tree 56 (weight 1.0):\\n    If (feature 20 <= 16.765)\\n     If (feature 24 <= 0.179)\\n      If (feature 25 <= 0.42025)\\n       If (feature 10 <= 0.9435)\\n        Predict: 0.0\\n       Else (feature 10 > 0.9435)\\n        Predict: 1.0\\n      Else (feature 25 > 0.42025)\\n       If (feature 4 <= 0.08341499999999999)\\n        Predict: 0.0\\n       Else (feature 4 > 0.08341499999999999)\\n        Predict: 1.0\\n     Else (feature 24 > 0.179)\\n      Predict: 1.0\\n    Else (feature 20 > 16.765)\\n     If (feature 21 <= 19.54)\\n      If (feature 14 <= 0.0061915)\\n       Predict: 0.0\\n      Else (feature 14 > 0.0061915)\\n       Predict: 1.0\\n     Else (feature 21 > 19.54)\\n      If (feature 29 <= 0.060289999999999996)\\n       If (feature 22 <= 122.25)\\n        Predict: 0.0\\n       Else (feature 22 > 122.25)\\n        Predict: 1.0\\n      Else (feature 29 > 0.060289999999999996)\\n       If (feature 28 <= 0.2399)\\n        If (feature 1 <= 18.555)\\n         Predict: 0.0\\n        Else (feature 1 > 18.555)\\n         Predict: 1.0\\n       Else (feature 28 > 0.2399)\\n        Predict: 1.0\\n  Tree 57 (weight 1.0):\\n    If (feature 0 <= 15.025)\\n     If (feature 21 <= 29.255000000000003)\\n      If (feature 12 <= 4.816)\\n       If (feature 28 <= 0.42669999999999997)\\n        Predict: 0.0\\n       Else (feature 28 > 0.42669999999999997)\\n        Predict: 1.0\\n      Else (feature 12 > 4.816)\\n       Predict: 1.0\\n     Else (feature 21 > 29.255000000000003)\\n      If (feature 26 <= 0.36345)\\n       If (feature 21 <= 30.89)\\n        If (feature 18 <= 0.01521)\\n         Predict: 1.0\\n        Else (feature 18 > 0.01521)\\n         Predict: 0.0\\n       Else (feature 21 > 30.89)\\n        Predict: 0.0\\n      Else (feature 26 > 0.36345)\\n       If (feature 1 <= 24.945)\\n        Predict: 1.0\\n       Else (feature 1 > 24.945)\\n        Predict: 0.0\\n    Else (feature 0 > 15.025)\\n     If (feature 27 <= 0.10475000000000001)\\n      If (feature 1 <= 19.575)\\n       Predict: 0.0\\n      Else (feature 1 > 19.575)\\n       Predict: 1.0\\n     Else (feature 27 > 0.10475000000000001)\\n      If (feature 26 <= 0.17665)\\n       Predict: 0.0\\n      Else (feature 26 > 0.17665)\\n       Predict: 1.0\\n  Tree 58 (weight 1.0):\\n    If (feature 23 <= 861.75)\\n     If (feature 26 <= 0.36345)\\n      If (feature 21 <= 28.689999999999998)\\n       If (feature 12 <= 4.816)\\n        Predict: 0.0\\n       Else (feature 12 > 4.816)\\n        Predict: 1.0\\n      Else (feature 21 > 28.689999999999998)\\n       If (feature 23 <= 782.85)\\n        Predict: 0.0\\n       Else (feature 23 > 782.85)\\n        If (feature 25 <= 0.14584999999999998)\\n         Predict: 0.0\\n        Else (feature 25 > 0.14584999999999998)\\n         Predict: 1.0\\n     Else (feature 26 > 0.36345)\\n      If (feature 21 <= 25.740000000000002)\\n       Predict: 0.0\\n      Else (feature 21 > 25.740000000000002)\\n       If (feature 7 <= 0.04289)\\n        Predict: 0.0\\n       Else (feature 7 > 0.04289)\\n        Predict: 1.0\\n    Else (feature 23 > 861.75)\\n     If (feature 20 <= 16.765)\\n      Predict: 0.0\\n     Else (feature 20 > 16.765)\\n      If (feature 4 <= 0.079315)\\n       Predict: 0.0\\n      Else (feature 4 > 0.079315)\\n       If (feature 6 <= 0.06168)\\n        If (feature 3 <= 671.2)\\n         Predict: 0.0\\n        Else (feature 3 > 671.2)\\n         Predict: 1.0\\n       Else (feature 6 > 0.06168)\\n        Predict: 1.0\\n  Tree 59 (weight 1.0):\\n    If (feature 3 <= 671.2)\\n     If (feature 28 <= 0.34909999999999997)\\n      If (feature 22 <= 101.95)\\n       Predict: 0.0\\n      Else (feature 22 > 101.95)\\n       If (feature 2 <= 88.70500000000001)\\n        Predict: 1.0\\n       Else (feature 2 > 88.70500000000001)\\n        If (feature 26 <= 0.26144999999999996)\\n         Predict: 0.0\\n        Else (feature 26 > 0.26144999999999996)\\n         Predict: 1.0\\n     Else (feature 28 > 0.34909999999999997)\\n      If (feature 21 <= 23.880000000000003)\\n       If (feature 24 <= 0.1543)\\n        Predict: 0.0\\n       Else (feature 24 > 0.1543)\\n        Predict: 1.0\\n      Else (feature 21 > 23.880000000000003)\\n       If (feature 27 <= 0.11825)\\n        Predict: 0.0\\n       Else (feature 27 > 0.11825)\\n        Predict: 1.0\\n    Else (feature 3 > 671.2)\\n     If (feature 21 <= 20.81)\\n      If (feature 17 <= 0.0127)\\n       Predict: 0.0\\n      Else (feature 17 > 0.0127)\\n       Predict: 1.0\\n     Else (feature 21 > 20.81)\\n      If (feature 24 <= 0.09376000000000001)\\n       If (feature 8 <= 0.17720000000000002)\\n        Predict: 1.0\\n       Else (feature 8 > 0.17720000000000002)\\n        Predict: 0.0\\n      Else (feature 24 > 0.09376000000000001)\\n       If (feature 27 <= 0.094525)\\n        If (feature 12 <= 2.3449999999999998)\\n         Predict: 0.0\\n        Else (feature 12 > 2.3449999999999998)\\n         Predict: 1.0\\n       Else (feature 27 > 0.094525)\\n        Predict: 1.0\\n  Tree 60 (weight 1.0):\\n    If (feature 20 <= 16.765)\\n     If (feature 26 <= 0.3863)\\n      If (feature 1 <= 21.365000000000002)\\n       If (feature 22 <= 108.69999999999999)\\n        Predict: 0.0\\n       Else (feature 22 > 108.69999999999999)\\n        If (feature 24 <= 0.13245)\\n         Predict: 0.0\\n        Else (feature 24 > 0.13245)\\n         Predict: 1.0\\n      Else (feature 1 > 21.365000000000002)\\n       If (feature 13 <= 32.535)\\n        If (feature 23 <= 782.85)\\n         Predict: 0.0\\n        Else (feature 23 > 782.85)\\n         Predict: 1.0\\n       Else (feature 13 > 32.535)\\n        Predict: 1.0\\n     Else (feature 26 > 0.3863)\\n      If (feature 7 <= 0.047885)\\n       Predict: 0.0\\n      Else (feature 7 > 0.047885)\\n       If (feature 21 <= 23.215)\\n        If (feature 10 <= 0.28859999999999997)\\n         Predict: 0.0\\n        Else (feature 10 > 0.28859999999999997)\\n         Predict: 1.0\\n       Else (feature 21 > 23.215)\\n        Predict: 1.0\\n    Else (feature 20 > 16.765)\\n     If (feature 23 <= 861.75)\\n      Predict: 0.0\\n     Else (feature 23 > 861.75)\\n      If (feature 6 <= 0.06168)\\n       If (feature 8 <= 0.1513)\\n        Predict: 0.0\\n       Else (feature 8 > 0.1513)\\n        If (feature 11 <= 1.686)\\n         Predict: 1.0\\n        Else (feature 11 > 1.686)\\n         Predict: 0.0\\n      Else (feature 6 > 0.06168)\\n       Predict: 1.0\\n  Tree 61 (weight 1.0):\\n    If (feature 20 <= 16.355)\\n     If (feature 27 <= 0.14905000000000002)\\n      If (feature 18 <= 0.016945)\\n       If (feature 5 <= 0.11399999999999999)\\n        Predict: 0.0\\n       Else (feature 5 > 0.11399999999999999)\\n        If (feature 8 <= 0.18125)\\n         Predict: 0.0\\n        Else (feature 8 > 0.18125)\\n         Predict: 1.0\\n      Else (feature 18 > 0.016945)\\n       Predict: 0.0\\n     Else (feature 27 > 0.14905000000000002)\\n      If (feature 20 <= 15.52)\\n       If (feature 17 <= 0.019790000000000002)\\n        Predict: 1.0\\n       Else (feature 17 > 0.019790000000000002)\\n        Predict: 0.0\\n      Else (feature 20 > 15.52)\\n       Predict: 1.0\\n    Else (feature 20 > 16.355)\\n     If (feature 7 <= 0.047885)\\n      If (feature 1 <= 19.575)\\n       Predict: 0.0\\n      Else (feature 1 > 19.575)\\n       Predict: 1.0\\n     Else (feature 7 > 0.047885)\\n      If (feature 1 <= 14.08)\\n       If (feature 28 <= 0.27380000000000004)\\n        Predict: 0.0\\n       Else (feature 28 > 0.27380000000000004)\\n        Predict: 1.0\\n      Else (feature 1 > 14.08)\\n       Predict: 1.0\\n  Tree 62 (weight 1.0):\\n    If (feature 26 <= 0.20875)\\n     If (feature 11 <= 1.9304999999999999)\\n      If (feature 20 <= 16.765)\\n       Predict: 0.0\\n      Else (feature 20 > 16.765)\\n       If (feature 19 <= 0.001591)\\n        Predict: 0.0\\n       Else (feature 19 > 0.001591)\\n        Predict: 1.0\\n     Else (feature 11 > 1.9304999999999999)\\n      If (feature 23 <= 532.95)\\n       Predict: 0.0\\n      Else (feature 23 > 532.95)\\n       If (feature 18 <= 0.015915)\\n        Predict: 1.0\\n       Else (feature 18 > 0.015915)\\n        Predict: 0.0\\n    Else (feature 26 > 0.20875)\\n     If (feature 22 <= 114.8)\\n      If (feature 27 <= 0.14905000000000002)\\n       If (feature 0 <= 15.025)\\n        Predict: 0.0\\n       Else (feature 0 > 15.025)\\n        If (feature 11 <= 0.56715)\\n         Predict: 0.0\\n        Else (feature 11 > 0.56715)\\n         Predict: 1.0\\n      Else (feature 27 > 0.14905000000000002)\\n       If (feature 6 <= 0.21305)\\n        If (feature 13 <= 18.744999999999997)\\n         Predict: 0.0\\n        Else (feature 13 > 18.744999999999997)\\n         Predict: 1.0\\n       Else (feature 6 > 0.21305)\\n        Predict: 0.0\\n     Else (feature 22 > 114.8)\\n      Predict: 1.0\\n  Tree 63 (weight 1.0):\\n    If (feature 20 <= 16.765)\\n     If (feature 7 <= 0.053335)\\n      If (feature 13 <= 43.675)\\n       Predict: 0.0\\n      Else (feature 13 > 43.675)\\n       Predict: 1.0\\n     Else (feature 7 > 0.053335)\\n      If (feature 13 <= 27.235)\\n       If (feature 21 <= 23.215)\\n        Predict: 0.0\\n       Else (feature 21 > 23.215)\\n        If (feature 12 <= 1.5585)\\n         Predict: 0.0\\n        Else (feature 12 > 1.5585)\\n         Predict: 1.0\\n      Else (feature 13 > 27.235)\\n       If (feature 27 <= 0.14905000000000002)\\n        Predict: 0.0\\n       Else (feature 27 > 0.14905000000000002)\\n        Predict: 1.0\\n    Else (feature 20 > 16.765)\\n     If (feature 6 <= 0.074405)\\n      If (feature 1 <= 19.575)\\n       Predict: 0.0\\n      Else (feature 1 > 19.575)\\n       Predict: 1.0\\n     Else (feature 6 > 0.074405)\\n      Predict: 1.0\\n  Tree 64 (weight 1.0):\\n    If (feature 2 <= 97.92)\\n     If (feature 26 <= 0.36345)\\n      If (feature 27 <= 0.11065)\\n       If (feature 21 <= 32.504999999999995)\\n        Predict: 0.0\\n       Else (feature 21 > 32.504999999999995)\\n        If (feature 23 <= 782.85)\\n         Predict: 0.0\\n        Else (feature 23 > 782.85)\\n         Predict: 1.0\\n      Else (feature 27 > 0.11065)\\n       If (feature 10 <= 0.28859999999999997)\\n        Predict: 0.0\\n       Else (feature 10 > 0.28859999999999997)\\n        If (feature 3 <= 433.25)\\n         Predict: 0.0\\n        Else (feature 3 > 433.25)\\n         Predict: 1.0\\n     Else (feature 26 > 0.36345)\\n      If (feature 20 <= 12.385)\\n       Predict: 0.0\\n      Else (feature 20 > 12.385)\\n       If (feature 17 <= 0.02246)\\n        If (feature 27 <= 0.1313)\\n         Predict: 0.0\\n        Else (feature 27 > 0.1313)\\n         Predict: 1.0\\n       Else (feature 17 > 0.02246)\\n        Predict: 0.0\\n    Else (feature 2 > 97.92)\\n     If (feature 22 <= 122.25)\\n      If (feature 1 <= 16.34)\\n       Predict: 0.0\\n      Else (feature 1 > 16.34)\\n       If (feature 27 <= 0.094525)\\n        Predict: 0.0\\n       Else (feature 27 > 0.094525)\\n        Predict: 1.0\\n     Else (feature 22 > 122.25)\\n      Predict: 1.0\\n  Tree 65 (weight 1.0):\\n    If (feature 20 <= 17.384999999999998)\\n     If (feature 21 <= 25.740000000000002)\\n      If (feature 6 <= 0.1565)\\n       If (feature 10 <= 0.5916)\\n        Predict: 0.0\\n       Else (feature 10 > 0.5916)\\n        If (feature 19 <= 0.002839)\\n         Predict: 1.0\\n        Else (feature 19 > 0.002839)\\n         Predict: 0.0\\n      Else (feature 6 > 0.1565)\\n       If (feature 1 <= 16.0)\\n        Predict: 1.0\\n       Else (feature 1 > 16.0)\\n        Predict: 0.0\\n     Else (feature 21 > 25.740000000000002)\\n      If (feature 29 <= 0.08954999999999999)\\n       If (feature 22 <= 101.95)\\n        Predict: 0.0\\n       Else (feature 22 > 101.95)\\n        If (feature 28 <= 0.25345)\\n         Predict: 0.0\\n        Else (feature 28 > 0.25345)\\n         Predict: 1.0\\n      Else (feature 29 > 0.08954999999999999)\\n       If (feature 26 <= 0.34199999999999997)\\n        If (feature 0 <= 13.205)\\n         Predict: 0.0\\n        Else (feature 0 > 13.205)\\n         Predict: 1.0\\n       Else (feature 26 > 0.34199999999999997)\\n        If (feature 8 <= 0.1513)\\n         Predict: 0.0\\n        Else (feature 8 > 0.1513)\\n         Predict: 1.0\\n    Else (feature 20 > 17.384999999999998)\\n     If (feature 1 <= 14.08)\\n      If (feature 15 <= 0.01548)\\n       Predict: 0.0\\n      Else (feature 15 > 0.01548)\\n       Predict: 1.0\\n     Else (feature 1 > 14.08)\\n      If (feature 7 <= 0.053335)\\n       If (feature 21 <= 25.455)\\n        Predict: 0.0\\n       Else (feature 21 > 25.455)\\n        Predict: 1.0\\n      Else (feature 7 > 0.053335)\\n       Predict: 1.0\\n  Tree 66 (weight 1.0):\\n    If (feature 22 <= 113.15)\\n     If (feature 7 <= 0.053335)\\n      If (feature 10 <= 0.63295)\\n       If (feature 23 <= 633.2)\\n        Predict: 0.0\\n       Else (feature 23 > 633.2)\\n        If (feature 3 <= 506.6)\\n         Predict: 1.0\\n        Else (feature 3 > 506.6)\\n         Predict: 0.0\\n      Else (feature 10 > 0.63295)\\n       Predict: 1.0\\n     Else (feature 7 > 0.053335)\\n      If (feature 9 <= 0.06686)\\n       If (feature 1 <= 20.205)\\n        Predict: 0.0\\n       Else (feature 1 > 20.205)\\n        Predict: 1.0\\n      Else (feature 9 > 0.06686)\\n       If (feature 24 <= 0.131)\\n        Predict: 0.0\\n       Else (feature 24 > 0.131)\\n        If (feature 12 <= 1.5585)\\n         Predict: 0.0\\n        Else (feature 12 > 1.5585)\\n         Predict: 1.0\\n    Else (feature 22 > 113.15)\\n     If (feature 1 <= 15.695)\\n      If (feature 13 <= 30.055)\\n       Predict: 0.0\\n      Else (feature 13 > 30.055)\\n       If (feature 0 <= 14.77)\\n        Predict: 0.0\\n       Else (feature 0 > 14.77)\\n        Predict: 1.0\\n     Else (feature 1 > 15.695)\\n      If (feature 27 <= 0.094525)\\n       Predict: 0.0\\n      Else (feature 27 > 0.094525)\\n       If (feature 3 <= 671.2)\\n        If (feature 4 <= 0.089275)\\n         Predict: 0.0\\n        Else (feature 4 > 0.089275)\\n         Predict: 1.0\\n       Else (feature 3 > 671.2)\\n        Predict: 1.0\\n  Tree 67 (weight 1.0):\\n    If (feature 22 <= 114.8)\\n     If (feature 21 <= 32.504999999999995)\\n      If (feature 27 <= 0.14905000000000002)\\n       If (feature 28 <= 0.19874999999999998)\\n        If (feature 20 <= 13.355)\\n         Predict: 0.0\\n        Else (feature 20 > 13.355)\\n         Predict: 1.0\\n       Else (feature 28 > 0.19874999999999998)\\n        Predict: 0.0\\n      Else (feature 27 > 0.14905000000000002)\\n       Predict: 1.0\\n     Else (feature 21 > 32.504999999999995)\\n      If (feature 6 <= 0.02962)\\n       Predict: 0.0\\n      Else (feature 6 > 0.02962)\\n       If (feature 7 <= 0.024405)\\n        Predict: 0.0\\n       Else (feature 7 > 0.024405)\\n        If (feature 11 <= 1.8695)\\n         Predict: 1.0\\n        Else (feature 11 > 1.8695)\\n         Predict: 0.0\\n    Else (feature 22 > 114.8)\\n     If (feature 19 <= 0.001591)\\n      If (feature 14 <= 0.0044155)\\n       Predict: 0.0\\n      Else (feature 14 > 0.0044155)\\n       Predict: 1.0\\n     Else (feature 19 > 0.001591)\\n      If (feature 0 <= 13.445)\\n       If (feature 1 <= 19.875)\\n        Predict: 1.0\\n       Else (feature 1 > 19.875)\\n        Predict: 0.0\\n      Else (feature 0 > 13.445)\\n       Predict: 1.0\\n  Tree 68 (weight 1.0):\\n    If (feature 20 <= 16.765)\\n     If (feature 4 <= 0.124)\\n      If (feature 25 <= 0.6205499999999999)\\n       Predict: 0.0\\n      Else (feature 25 > 0.6205499999999999)\\n       Predict: 1.0\\n     Else (feature 4 > 0.124)\\n      If (feature 29 <= 0.077335)\\n       Predict: 0.0\\n      Else (feature 29 > 0.077335)\\n       Predict: 1.0\\n    Else (feature 20 > 16.765)\\n     If (feature 22 <= 114.8)\\n      If (feature 28 <= 0.31755)\\n       If (feature 17 <= 0.01031)\\n        If (feature 18 <= 0.011085000000000001)\\n         Predict: 0.0\\n        Else (feature 18 > 0.011085000000000001)\\n         Predict: 1.0\\n       Else (feature 17 > 0.01031)\\n        Predict: 0.0\\n      Else (feature 28 > 0.31755)\\n       Predict: 1.0\\n     Else (feature 22 > 114.8)\\n      If (feature 26 <= 0.17665)\\n       Predict: 0.0\\n      Else (feature 26 > 0.17665)\\n       Predict: 1.0\\n  Tree 69 (weight 1.0):\\n    If (feature 23 <= 861.75)\\n     If (feature 7 <= 0.057569999999999996)\\n      If (feature 1 <= 22.09)\\n       If (feature 0 <= 13.815000000000001)\\n        Predict: 0.0\\n       Else (feature 0 > 13.815000000000001)\\n        If (feature 24 <= 0.13245)\\n         Predict: 0.0\\n        Else (feature 24 > 0.13245)\\n         Predict: 1.0\\n      Else (feature 1 > 22.09)\\n       If (feature 19 <= 0.0018024999999999998)\\n        If (feature 0 <= 13.205)\\n         Predict: 0.0\\n        Else (feature 0 > 13.205)\\n         Predict: 1.0\\n       Else (feature 19 > 0.0018024999999999998)\\n        If (feature 1 <= 22.479999999999997)\\n         Predict: 1.0\\n        Else (feature 1 > 22.479999999999997)\\n         Predict: 0.0\\n     Else (feature 7 > 0.057569999999999996)\\n      If (feature 5 <= 0.2015)\\n       If (feature 23 <= 782.85)\\n        If (feature 14 <= 0.0061915)\\n         Predict: 1.0\\n        Else (feature 14 > 0.0061915)\\n         Predict: 0.0\\n       Else (feature 23 > 782.85)\\n        If (feature 11 <= 0.7722)\\n         Predict: 0.0\\n        Else (feature 11 > 0.7722)\\n         Predict: 1.0\\n      Else (feature 5 > 0.2015)\\n       Predict: 1.0\\n    Else (feature 23 > 861.75)\\n     If (feature 25 <= 0.20425)\\n      If (feature 16 <= 0.018575)\\n       Predict: 0.0\\n      Else (feature 16 > 0.018575)\\n       If (feature 1 <= 14.08)\\n        Predict: 0.0\\n       Else (feature 1 > 14.08)\\n        If (feature 11 <= 1.5085)\\n         Predict: 1.0\\n        Else (feature 11 > 1.5085)\\n         Predict: 0.0\\n     Else (feature 25 > 0.20425)\\n      If (feature 6 <= 0.074405)\\n       If (feature 22 <= 113.15)\\n        Predict: 0.0\\n       Else (feature 22 > 113.15)\\n        Predict: 1.0\\n      Else (feature 6 > 0.074405)\\n       Predict: 1.0\\n  Tree 70 (weight 1.0):\\n    If (feature 20 <= 17.384999999999998)\\n     If (feature 27 <= 0.14905000000000002)\\n      If (feature 12 <= 4.816)\\n       If (feature 1 <= 21.365000000000002)\\n        Predict: 0.0\\n       Else (feature 1 > 21.365000000000002)\\n        If (feature 23 <= 782.85)\\n         Predict: 0.0\\n        Else (feature 23 > 782.85)\\n         Predict: 1.0\\n      Else (feature 12 > 4.816)\\n       Predict: 1.0\\n     Else (feature 27 > 0.14905000000000002)\\n      If (feature 28 <= 0.25739999999999996)\\n       Predict: 0.0\\n      Else (feature 28 > 0.25739999999999996)\\n       Predict: 1.0\\n    Else (feature 20 > 17.384999999999998)\\n     If (feature 29 <= 0.060289999999999996)\\n      Predict: 0.0\\n     Else (feature 29 > 0.060289999999999996)\\n      If (feature 6 <= 0.06168)\\n       If (feature 12 <= 2.3449999999999998)\\n        If (feature 13 <= 23.865000000000002)\\n         Predict: 1.0\\n        Else (feature 13 > 23.865000000000002)\\n         Predict: 0.0\\n       Else (feature 12 > 2.3449999999999998)\\n        Predict: 1.0\\n      Else (feature 6 > 0.06168)\\n       Predict: 1.0\\n  Tree 71 (weight 1.0):\\n    If (feature 20 <= 16.765)\\n     If (feature 27 <= 0.1313)\\n      If (feature 7 <= 0.03419)\\n       Predict: 0.0\\n      Else (feature 7 > 0.03419)\\n       If (feature 14 <= 0.005601500000000001)\\n        If (feature 20 <= 13.614999999999998)\\n         Predict: 1.0\\n        Else (feature 20 > 13.614999999999998)\\n         Predict: 0.0\\n       Else (feature 14 > 0.005601500000000001)\\n        Predict: 0.0\\n     Else (feature 27 > 0.1313)\\n      If (feature 7 <= 0.047885)\\n       Predict: 0.0\\n      Else (feature 7 > 0.047885)\\n       If (feature 28 <= 0.26959999999999995)\\n        If (feature 25 <= 0.20425)\\n         Predict: 1.0\\n        Else (feature 25 > 0.20425)\\n         Predict: 0.0\\n       Else (feature 28 > 0.26959999999999995)\\n        If (feature 6 <= 0.1175)\\n         Predict: 0.0\\n        Else (feature 6 > 0.1175)\\n         Predict: 1.0\\n    Else (feature 20 > 16.765)\\n     If (feature 7 <= 0.047885)\\n      If (feature 11 <= 1.049)\\n       Predict: 0.0\\n      Else (feature 11 > 1.049)\\n       Predict: 1.0\\n     Else (feature 7 > 0.047885)\\n      If (feature 12 <= 2.3449999999999998)\\n       If (feature 23 <= 1017.0)\\n        If (feature 10 <= 0.25985)\\n         Predict: 1.0\\n        Else (feature 10 > 0.25985)\\n         Predict: 0.0\\n       Else (feature 23 > 1017.0)\\n        Predict: 1.0\\n      Else (feature 12 > 2.3449999999999998)\\n       Predict: 1.0\\n  Tree 72 (weight 1.0):\\n    If (feature 23 <= 823.05)\\n     If (feature 24 <= 0.179)\\n      If (feature 13 <= 54.099999999999994)\\n       If (feature 1 <= 21.365000000000002)\\n        Predict: 0.0\\n       Else (feature 1 > 21.365000000000002)\\n        If (feature 6 <= 0.1175)\\n         Predict: 0.0\\n        Else (feature 6 > 0.1175)\\n         Predict: 1.0\\n      Else (feature 13 > 54.099999999999994)\\n       Predict: 1.0\\n     Else (feature 24 > 0.179)\\n      Predict: 1.0\\n    Else (feature 23 > 823.05)\\n     If (feature 21 <= 16.990000000000002)\\n      Predict: 0.0\\n     Else (feature 21 > 16.990000000000002)\\n      If (feature 27 <= 0.11065)\\n       If (feature 1 <= 19.575)\\n        Predict: 0.0\\n       Else (feature 1 > 19.575)\\n        If (feature 0 <= 14.77)\\n         Predict: 0.0\\n        Else (feature 0 > 14.77)\\n         Predict: 1.0\\n      Else (feature 27 > 0.11065)\\n       If (feature 8 <= 0.1513)\\n        If (feature 14 <= 0.004215)\\n         Predict: 0.0\\n        Else (feature 14 > 0.004215)\\n         Predict: 1.0\\n       Else (feature 8 > 0.1513)\\n        If (feature 7 <= 0.04289)\\n         Predict: 0.0\\n        Else (feature 7 > 0.04289)\\n         Predict: 1.0\\n  Tree 73 (weight 1.0):\\n    If (feature 3 <= 696.25)\\n     If (feature 26 <= 0.36345)\\n      If (feature 12 <= 4.067)\\n       Predict: 0.0\\n      Else (feature 12 > 4.067)\\n       If (feature 9 <= 0.057005)\\n        Predict: 0.0\\n       Else (feature 9 > 0.057005)\\n        Predict: 1.0\\n     Else (feature 26 > 0.36345)\\n      If (feature 15 <= 0.034545)\\n       If (feature 24 <= 0.1366)\\n        Predict: 0.0\\n       Else (feature 24 > 0.1366)\\n        Predict: 1.0\\n      Else (feature 15 > 0.034545)\\n       If (feature 24 <= 0.1543)\\n        Predict: 0.0\\n       Else (feature 24 > 0.1543)\\n        Predict: 1.0\\n    Else (feature 3 > 696.25)\\n     If (feature 17 <= 0.007601999999999999)\\n      If (feature 15 <= 0.009174999999999999)\\n       Predict: 0.0\\n      Else (feature 15 > 0.009174999999999999)\\n       Predict: 1.0\\n     Else (feature 17 > 0.007601999999999999)\\n      If (feature 12 <= 1.9969999999999999)\\n       If (feature 0 <= 17.04)\\n        Predict: 0.0\\n       Else (feature 0 > 17.04)\\n        Predict: 1.0\\n      Else (feature 12 > 1.9969999999999999)\\n       Predict: 1.0\\n  Tree 74 (weight 1.0):\\n    If (feature 0 <= 15.025)\\n     If (feature 22 <= 101.95)\\n      If (feature 25 <= 0.5289)\\n       If (feature 10 <= 0.5916)\\n        Predict: 0.0\\n       Else (feature 10 > 0.5916)\\n        If (feature 15 <= 0.010110000000000001)\\n         Predict: 1.0\\n        Else (feature 15 > 0.010110000000000001)\\n         Predict: 0.0\\n      Else (feature 25 > 0.5289)\\n       Predict: 1.0\\n     Else (feature 22 > 101.95)\\n      If (feature 4 <= 0.089275)\\n       If (feature 29 <= 0.072045)\\n        If (feature 27 <= 0.11065)\\n         Predict: 0.0\\n        Else (feature 27 > 0.11065)\\n         Predict: 1.0\\n       Else (feature 29 > 0.072045)\\n        Predict: 0.0\\n      Else (feature 4 > 0.089275)\\n       If (feature 3 <= 647.1500000000001)\\n        Predict: 1.0\\n       Else (feature 3 > 647.1500000000001)\\n        If (feature 14 <= 0.005601500000000001)\\n         Predict: 0.0\\n        Else (feature 14 > 0.005601500000000001)\\n         Predict: 1.0\\n    Else (feature 0 > 15.025)\\n     If (feature 12 <= 1.5585)\\n      If (feature 25 <= 0.31025)\\n       Predict: 0.0\\n      Else (feature 25 > 0.31025)\\n       Predict: 1.0\\n     Else (feature 12 > 1.5585)\\n      If (feature 23 <= 782.85)\\n       Predict: 0.0\\n      Else (feature 23 > 782.85)\\n       If (feature 26 <= 0.1894)\\n        If (feature 28 <= 0.25345)\\n         Predict: 0.0\\n        Else (feature 28 > 0.25345)\\n         Predict: 1.0\\n       Else (feature 26 > 0.1894)\\n        Predict: 1.0\\n  Tree 75 (weight 1.0):\\n    If (feature 20 <= 17.384999999999998)\\n     If (feature 6 <= 0.093405)\\n      If (feature 19 <= 0.002839)\\n       If (feature 21 <= 29.255000000000003)\\n        If (feature 10 <= 0.5500499999999999)\\n         Predict: 0.0\\n        Else (feature 10 > 0.5500499999999999)\\n         Predict: 1.0\\n       Else (feature 21 > 29.255000000000003)\\n        If (feature 22 <= 91.96000000000001)\\n         Predict: 0.0\\n        Else (feature 22 > 91.96000000000001)\\n         Predict: 1.0\\n      Else (feature 19 > 0.002839)\\n       Predict: 0.0\\n     Else (feature 6 > 0.093405)\\n      If (feature 28 <= 0.26615)\\n       Predict: 0.0\\n      Else (feature 28 > 0.26615)\\n       If (feature 15 <= 0.039685)\\n        Predict: 1.0\\n       Else (feature 15 > 0.039685)\\n        If (feature 21 <= 25.740000000000002)\\n         Predict: 0.0\\n        Else (feature 21 > 25.740000000000002)\\n         Predict: 1.0\\n    Else (feature 20 > 17.384999999999998)\\n     If (feature 15 <= 0.009174999999999999)\\n      If (feature 27 <= 0.084235)\\n       Predict: 0.0\\n      Else (feature 27 > 0.084235)\\n       Predict: 1.0\\n     Else (feature 15 > 0.009174999999999999)\\n      If (feature 25 <= 0.1704)\\n       If (feature 25 <= 0.15239999999999998)\\n        Predict: 1.0\\n       Else (feature 25 > 0.15239999999999998)\\n        Predict: 0.0\\n      Else (feature 25 > 0.1704)\\n       Predict: 1.0\\n  Tree 76 (weight 1.0):\\n    If (feature 6 <= 0.1015)\\n     If (feature 0 <= 15.025)\\n      If (feature 23 <= 923.95)\\n       Predict: 0.0\\n      Else (feature 23 > 923.95)\\n       Predict: 1.0\\n     Else (feature 0 > 15.025)\\n      If (feature 21 <= 25.455)\\n       If (feature 0 <= 18.235)\\n        Predict: 0.0\\n       Else (feature 0 > 18.235)\\n        Predict: 1.0\\n      Else (feature 21 > 25.455)\\n       Predict: 1.0\\n    Else (feature 6 > 0.1015)\\n     If (feature 7 <= 0.047885)\\n      Predict: 0.0\\n     Else (feature 7 > 0.047885)\\n      If (feature 20 <= 10.754999999999999)\\n       Predict: 0.0\\n      Else (feature 20 > 10.754999999999999)\\n       If (feature 12 <= 1.1724999999999999)\\n        Predict: 0.0\\n       Else (feature 12 > 1.1724999999999999)\\n        Predict: 1.0\\n  Tree 77 (weight 1.0):\\n    If (feature 0 <= 15.025)\\n     If (feature 6 <= 0.1175)\\n      If (feature 27 <= 0.11065)\\n       If (feature 11 <= 2.1085000000000003)\\n        Predict: 0.0\\n       Else (feature 11 > 2.1085000000000003)\\n        If (feature 9 <= 0.055465)\\n         Predict: 1.0\\n        Else (feature 9 > 0.055465)\\n         Predict: 0.0\\n      Else (feature 27 > 0.11065)\\n       If (feature 18 <= 0.014385)\\n        If (feature 28 <= 0.2963)\\n         Predict: 0.0\\n        Else (feature 28 > 0.2963)\\n         Predict: 1.0\\n       Else (feature 18 > 0.014385)\\n        Predict: 0.0\\n     Else (feature 6 > 0.1175)\\n      If (feature 28 <= 0.2616)\\n       Predict: 0.0\\n      Else (feature 28 > 0.2616)\\n       If (feature 27 <= 0.11825)\\n        Predict: 0.0\\n       Else (feature 27 > 0.11825)\\n        Predict: 1.0\\n    Else (feature 0 > 15.025)\\n     If (feature 12 <= 1.5585)\\n      Predict: 0.0\\n     Else (feature 12 > 1.5585)\\n      If (feature 19 <= 0.0014334999999999999)\\n       Predict: 0.0\\n      Else (feature 19 > 0.0014334999999999999)\\n       If (feature 6 <= 0.06168)\\n        If (feature 12 <= 2.3449999999999998)\\n         Predict: 0.0\\n        Else (feature 12 > 2.3449999999999998)\\n         Predict: 1.0\\n       Else (feature 6 > 0.06168)\\n        Predict: 1.0\\n  Tree 78 (weight 1.0):\\n    If (feature 0 <= 15.025)\\n     If (feature 7 <= 0.053335)\\n      If (feature 28 <= 0.42669999999999997)\\n       If (feature 1 <= 24.21)\\n        Predict: 0.0\\n       Else (feature 1 > 24.21)\\n        If (feature 19 <= 0.001591)\\n         Predict: 1.0\\n        Else (feature 19 > 0.001591)\\n         Predict: 0.0\\n      Else (feature 28 > 0.42669999999999997)\\n       Predict: 1.0\\n     Else (feature 7 > 0.053335)\\n      If (feature 17 <= 0.02246)\\n       If (feature 5 <= 0.10525000000000001)\\n        Predict: 0.0\\n       Else (feature 5 > 0.10525000000000001)\\n        If (feature 13 <= 13.05)\\n         Predict: 0.0\\n        Else (feature 13 > 13.05)\\n         Predict: 1.0\\n      Else (feature 17 > 0.02246)\\n       Predict: 0.0\\n    Else (feature 0 > 15.025)\\n     If (feature 21 <= 16.075)\\n      Predict: 0.0\\n     Else (feature 21 > 16.075)\\n      If (feature 21 <= 19.54)\\n       If (feature 12 <= 1.9969999999999999)\\n        Predict: 0.0\\n       Else (feature 12 > 1.9969999999999999)\\n        Predict: 1.0\\n      Else (feature 21 > 19.54)\\n       Predict: 1.0\\n  Tree 79 (weight 1.0):\\n    If (feature 23 <= 861.75)\\n     If (feature 26 <= 0.323)\\n      If (feature 27 <= 0.1313)\\n       If (feature 12 <= 4.816)\\n        Predict: 0.0\\n       Else (feature 12 > 4.816)\\n        Predict: 1.0\\n      Else (feature 27 > 0.1313)\\n       If (feature 26 <= 0.26144999999999996)\\n        Predict: 0.0\\n       Else (feature 26 > 0.26144999999999996)\\n        Predict: 1.0\\n     Else (feature 26 > 0.323)\\n      If (feature 4 <= 0.1081)\\n       If (feature 3 <= 558.6500000000001)\\n        Predict: 0.0\\n       Else (feature 3 > 558.6500000000001)\\n        If (feature 5 <= 0.12685000000000002)\\n         Predict: 1.0\\n        Else (feature 5 > 0.12685000000000002)\\n         Predict: 0.0\\n      Else (feature 4 > 0.1081)\\n       Predict: 1.0\\n    Else (feature 23 > 861.75)\\n     If (feature 22 <= 114.8)\\n      If (feature 1 <= 14.805)\\n       Predict: 0.0\\n      Else (feature 1 > 14.805)\\n       If (feature 20 <= 16.765)\\n        Predict: 0.0\\n       Else (feature 20 > 16.765)\\n        Predict: 1.0\\n     Else (feature 22 > 114.8)\\n      If (feature 12 <= 2.3449999999999998)\\n       If (feature 14 <= 0.005392)\\n        Predict: 1.0\\n       Else (feature 14 > 0.005392)\\n        Predict: 0.0\\n      Else (feature 12 > 2.3449999999999998)\\n       Predict: 1.0\\n  Tree 80 (weight 1.0):\\n    If (feature 22 <= 113.15)\\n     If (feature 3 <= 696.25)\\n      If (feature 27 <= 0.15635)\\n       If (feature 7 <= 0.057569999999999996)\\n        Predict: 0.0\\n       Else (feature 7 > 0.057569999999999996)\\n        If (feature 28 <= 0.2399)\\n         Predict: 0.0\\n        Else (feature 28 > 0.2399)\\n         Predict: 1.0\\n      Else (feature 27 > 0.15635)\\n       If (feature 13 <= 17.939999999999998)\\n        If (feature 1 <= 17.375)\\n         Predict: 0.0\\n        Else (feature 1 > 17.375)\\n         Predict: 1.0\\n       Else (feature 13 > 17.939999999999998)\\n        Predict: 1.0\\n     Else (feature 3 > 696.25)\\n      If (feature 17 <= 0.01242)\\n       Predict: 0.0\\n      Else (feature 17 > 0.01242)\\n       Predict: 1.0\\n    Else (feature 22 > 113.15)\\n     If (feature 26 <= 0.1894)\\n      Predict: 0.0\\n     Else (feature 26 > 0.1894)\\n      If (feature 4 <= 0.08341499999999999)\\n       If (feature 10 <= 0.28859999999999997)\\n        Predict: 0.0\\n       Else (feature 10 > 0.28859999999999997)\\n        Predict: 1.0\\n      Else (feature 4 > 0.08341499999999999)\\n       If (feature 7 <= 0.04289)\\n        If (feature 16 <= 0.022565)\\n         Predict: 1.0\\n        Else (feature 16 > 0.022565)\\n         Predict: 0.0\\n       Else (feature 7 > 0.04289)\\n        Predict: 1.0\\n  Tree 81 (weight 1.0):\\n    If (feature 26 <= 0.26144999999999996)\\n     If (feature 10 <= 0.5500499999999999)\\n      If (feature 23 <= 923.95)\\n       If (feature 21 <= 29.255000000000003)\\n        Predict: 0.0\\n       Else (feature 21 > 29.255000000000003)\\n        If (feature 21 <= 30.265)\\n         Predict: 1.0\\n        Else (feature 21 > 30.265)\\n         Predict: 0.0\\n      Else (feature 23 > 923.95)\\n       If (feature 21 <= 28.689999999999998)\\n        Predict: 0.0\\n       Else (feature 21 > 28.689999999999998)\\n        Predict: 1.0\\n     Else (feature 10 > 0.5500499999999999)\\n      If (feature 20 <= 16.060000000000002)\\n       If (feature 14 <= 0.005601500000000001)\\n        Predict: 1.0\\n       Else (feature 14 > 0.005601500000000001)\\n        Predict: 0.0\\n      Else (feature 20 > 16.060000000000002)\\n       Predict: 1.0\\n    Else (feature 26 > 0.26144999999999996)\\n     If (feature 22 <= 97.97999999999999)\\n      If (feature 24 <= 0.179)\\n       Predict: 0.0\\n      Else (feature 24 > 0.179)\\n       Predict: 1.0\\n     Else (feature 22 > 97.97999999999999)\\n      If (feature 1 <= 15.695)\\n       If (feature 4 <= 0.10355)\\n        Predict: 0.0\\n       Else (feature 4 > 0.10355)\\n        Predict: 1.0\\n      Else (feature 1 > 15.695)\\n       If (feature 20 <= 15.52)\\n        If (feature 8 <= 0.186)\\n         Predict: 0.0\\n        Else (feature 8 > 0.186)\\n         Predict: 1.0\\n       Else (feature 20 > 15.52)\\n        Predict: 1.0\\n  Tree 82 (weight 1.0):\\n    If (feature 7 <= 0.053335)\\n     If (feature 23 <= 923.95)\\n      If (feature 25 <= 0.4486)\\n       If (feature 13 <= 48.565)\\n        Predict: 0.0\\n       Else (feature 13 > 48.565)\\n        Predict: 1.0\\n      Else (feature 25 > 0.4486)\\n       Predict: 1.0\\n     Else (feature 23 > 923.95)\\n      If (feature 8 <= 0.1378)\\n       Predict: 0.0\\n      Else (feature 8 > 0.1378)\\n       Predict: 1.0\\n    Else (feature 7 > 0.053335)\\n     If (feature 22 <= 97.97999999999999)\\n      If (feature 3 <= 433.25)\\n       If (feature 12 <= 2.3449999999999998)\\n        Predict: 1.0\\n       Else (feature 12 > 2.3449999999999998)\\n        Predict: 0.0\\n      Else (feature 3 > 433.25)\\n       Predict: 0.0\\n     Else (feature 22 > 97.97999999999999)\\n      If (feature 26 <= 0.20875)\\n       If (feature 17 <= 0.011345000000000001)\\n        Predict: 1.0\\n       Else (feature 17 > 0.011345000000000001)\\n        Predict: 0.0\\n      Else (feature 26 > 0.20875)\\n       If (feature 13 <= 14.094999999999999)\\n        Predict: 0.0\\n       Else (feature 13 > 14.094999999999999)\\n        Predict: 1.0\\n  Tree 83 (weight 1.0):\\n    If (feature 23 <= 923.95)\\n     If (feature 7 <= 0.053335)\\n      If (feature 22 <= 101.95)\\n       Predict: 0.0\\n      Else (feature 22 > 101.95)\\n       If (feature 2 <= 88.70500000000001)\\n        If (feature 21 <= 22.814999999999998)\\n         Predict: 0.0\\n        Else (feature 21 > 22.814999999999998)\\n         Predict: 1.0\\n       Else (feature 2 > 88.70500000000001)\\n        If (feature 11 <= 1.9304999999999999)\\n         Predict: 0.0\\n        Else (feature 11 > 1.9304999999999999)\\n         Predict: 1.0\\n     Else (feature 7 > 0.053335)\\n      If (feature 26 <= 0.36345)\\n       If (feature 19 <= 0.0021625)\\n        Predict: 1.0\\n       Else (feature 19 > 0.0021625)\\n        Predict: 0.0\\n      Else (feature 26 > 0.36345)\\n       If (feature 15 <= 0.070405)\\n        Predict: 1.0\\n       Else (feature 15 > 0.070405)\\n        If (feature 25 <= 0.42025)\\n         Predict: 0.0\\n        Else (feature 25 > 0.42025)\\n         Predict: 1.0\\n    Else (feature 23 > 923.95)\\n     If (feature 8 <= 0.1378)\\n      Predict: 0.0\\n     Else (feature 8 > 0.1378)\\n      Predict: 1.0\\n  Tree 84 (weight 1.0):\\n    If (feature 22 <= 114.8)\\n     If (feature 6 <= 0.13219999999999998)\\n      If (feature 21 <= 32.504999999999995)\\n       If (feature 0 <= 14.46)\\n        Predict: 0.0\\n       Else (feature 0 > 14.46)\\n        If (feature 11 <= 1.4304999999999999)\\n         Predict: 0.0\\n        Else (feature 11 > 1.4304999999999999)\\n         Predict: 1.0\\n      Else (feature 21 > 32.504999999999995)\\n       If (feature 27 <= 0.065135)\\n        Predict: 0.0\\n       Else (feature 27 > 0.065135)\\n        If (feature 0 <= 11.7)\\n         Predict: 0.0\\n        Else (feature 0 > 11.7)\\n         Predict: 1.0\\n     Else (feature 6 > 0.13219999999999998)\\n      If (feature 17 <= 0.02246)\\n       If (feature 21 <= 19.064999999999998)\\n        Predict: 0.0\\n       Else (feature 21 > 19.064999999999998)\\n        Predict: 1.0\\n      Else (feature 17 > 0.02246)\\n       Predict: 0.0\\n    Else (feature 22 > 114.8)\\n     If (feature 19 <= 0.001591)\\n      If (feature 22 <= 122.25)\\n       Predict: 0.0\\n      Else (feature 22 > 122.25)\\n       Predict: 1.0\\n     Else (feature 19 > 0.001591)\\n      If (feature 12 <= 2.3449999999999998)\\n       If (feature 12 <= 2.2325)\\n        Predict: 1.0\\n       Else (feature 12 > 2.2325)\\n        Predict: 0.0\\n      Else (feature 12 > 2.3449999999999998)\\n       Predict: 1.0\\n  Tree 85 (weight 1.0):\\n    If (feature 27 <= 0.14105)\\n     If (feature 20 <= 16.765)\\n      If (feature 6 <= 0.13219999999999998)\\n       If (feature 13 <= 43.675)\\n        Predict: 0.0\\n       Else (feature 13 > 43.675)\\n        Predict: 1.0\\n      Else (feature 6 > 0.13219999999999998)\\n       Predict: 1.0\\n     Else (feature 20 > 16.765)\\n      If (feature 21 <= 19.54)\\n       Predict: 0.0\\n      Else (feature 21 > 19.54)\\n       Predict: 1.0\\n    Else (feature 27 > 0.14105)\\n     If (feature 20 <= 12.385)\\n      Predict: 0.0\\n     Else (feature 20 > 12.385)\\n      If (feature 22 <= 113.15)\\n       If (feature 7 <= 0.062325)\\n        If (feature 9 <= 0.06468499999999999)\\n         Predict: 0.0\\n        Else (feature 9 > 0.06468499999999999)\\n         Predict: 1.0\\n       Else (feature 7 > 0.062325)\\n        Predict: 1.0\\n      Else (feature 22 > 113.15)\\n       Predict: 1.0\\n  Tree 86 (weight 1.0):\\n    If (feature 3 <= 696.25)\\n     If (feature 13 <= 34.67)\\n      If (feature 26 <= 0.36345)\\n       If (feature 22 <= 101.95)\\n        Predict: 0.0\\n       Else (feature 22 > 101.95)\\n        If (feature 9 <= 0.055935)\\n         Predict: 1.0\\n        Else (feature 9 > 0.055935)\\n         Predict: 0.0\\n      Else (feature 26 > 0.36345)\\n       If (feature 4 <= 0.094265)\\n        Predict: 0.0\\n       Else (feature 4 > 0.094265)\\n        If (feature 21 <= 23.215)\\n         Predict: 0.0\\n        Else (feature 21 > 23.215)\\n         Predict: 1.0\\n     Else (feature 13 > 34.67)\\n      If (feature 4 <= 0.088055)\\n       Predict: 0.0\\n      Else (feature 4 > 0.088055)\\n       If (feature 20 <= 12.825)\\n        Predict: 0.0\\n       Else (feature 20 > 12.825)\\n        If (feature 26 <= 0.20875)\\n         Predict: 0.0\\n        Else (feature 26 > 0.20875)\\n         Predict: 1.0\\n    Else (feature 3 > 696.25)\\n     If (feature 5 <= 0.070955)\\n      If (feature 1 <= 13.295)\\n       Predict: 0.0\\n      Else (feature 1 > 13.295)\\n       Predict: 1.0\\n     Else (feature 5 > 0.070955)\\n      If (feature 26 <= 0.17665)\\n       Predict: 0.0\\n      Else (feature 26 > 0.17665)\\n       If (feature 27 <= 0.14905000000000002)\\n        If (feature 1 <= 12.55)\\n         Predict: 0.0\\n        Else (feature 1 > 12.55)\\n         Predict: 1.0\\n       Else (feature 27 > 0.14905000000000002)\\n        Predict: 1.0\\n  Tree 87 (weight 1.0):\\n    If (feature 20 <= 16.765)\\n     If (feature 7 <= 0.06698)\\n      If (feature 25 <= 0.6205499999999999)\\n       If (feature 17 <= 0.014135)\\n        Predict: 0.0\\n       Else (feature 17 > 0.014135)\\n        If (feature 23 <= 548.25)\\n         Predict: 0.0\\n        Else (feature 23 > 548.25)\\n         Predict: 1.0\\n      Else (feature 25 > 0.6205499999999999)\\n       Predict: 1.0\\n     Else (feature 7 > 0.06698)\\n      If (feature 24 <= 0.1543)\\n       If (feature 27 <= 0.17454999999999998)\\n        Predict: 0.0\\n       Else (feature 27 > 0.17454999999999998)\\n        Predict: 1.0\\n      Else (feature 24 > 0.1543)\\n       Predict: 1.0\\n    Else (feature 20 > 16.765)\\n     If (feature 8 <= 0.1378)\\n      Predict: 0.0\\n     Else (feature 8 > 0.1378)\\n      If (feature 10 <= 0.18159999999999998)\\n       Predict: 0.0\\n      Else (feature 10 > 0.18159999999999998)\\n       If (feature 27 <= 0.094525)\\n        If (feature 15 <= 0.014735)\\n         Predict: 1.0\\n        Else (feature 15 > 0.014735)\\n         Predict: 0.0\\n       Else (feature 27 > 0.094525)\\n        Predict: 1.0\\n  Tree 88 (weight 1.0):\\n    If (feature 3 <= 696.25)\\n     If (feature 6 <= 0.1175)\\n      If (feature 7 <= 0.053335)\\n       If (feature 20 <= 16.765)\\n        Predict: 0.0\\n       Else (feature 20 > 16.765)\\n        Predict: 1.0\\n      Else (feature 7 > 0.053335)\\n       If (feature 11 <= 0.6334)\\n        Predict: 1.0\\n       Else (feature 11 > 0.6334)\\n        If (feature 23 <= 823.05)\\n         Predict: 0.0\\n        Else (feature 23 > 823.05)\\n         Predict: 1.0\\n     Else (feature 6 > 0.1175)\\n      If (feature 18 <= 0.024425000000000002)\\n       If (feature 13 <= 11.75)\\n        Predict: 0.0\\n       Else (feature 13 > 11.75)\\n        Predict: 1.0\\n      Else (feature 18 > 0.024425000000000002)\\n       If (feature 16 <= 0.04715)\\n        Predict: 1.0\\n       Else (feature 16 > 0.04715)\\n        Predict: 0.0\\n    Else (feature 3 > 696.25)\\n     If (feature 4 <= 0.08341499999999999)\\n      If (feature 10 <= 0.214)\\n       Predict: 0.0\\n      Else (feature 10 > 0.214)\\n       If (feature 1 <= 19.575)\\n        Predict: 0.0\\n       Else (feature 1 > 19.575)\\n        Predict: 1.0\\n     Else (feature 4 > 0.08341499999999999)\\n      If (feature 10 <= 0.18159999999999998)\\n       Predict: 0.0\\n      Else (feature 10 > 0.18159999999999998)\\n       If (feature 27 <= 0.094525)\\n        If (feature 7 <= 0.029425)\\n         Predict: 1.0\\n        Else (feature 7 > 0.029425)\\n         Predict: 0.0\\n       Else (feature 27 > 0.094525)\\n        Predict: 1.0\\n  Tree 89 (weight 1.0):\\n    If (feature 0 <= 15.025)\\n     If (feature 6 <= 0.1015)\\n      If (feature 20 <= 16.765)\\n       If (feature 12 <= 4.067)\\n        Predict: 0.0\\n       Else (feature 12 > 4.067)\\n        If (feature 26 <= 0.066535)\\n         Predict: 1.0\\n        Else (feature 26 > 0.066535)\\n         Predict: 0.0\\n      Else (feature 20 > 16.765)\\n       Predict: 1.0\\n     Else (feature 6 > 0.1015)\\n      If (feature 28 <= 0.2616)\\n       Predict: 0.0\\n      Else (feature 28 > 0.2616)\\n       If (feature 24 <= 0.12240000000000001)\\n        Predict: 0.0\\n       Else (feature 24 > 0.12240000000000001)\\n        Predict: 1.0\\n    Else (feature 0 > 15.025)\\n     If (feature 10 <= 0.18159999999999998)\\n      Predict: 0.0\\n     Else (feature 10 > 0.18159999999999998)\\n      If (feature 17 <= 0.007601999999999999)\\n       If (feature 7 <= 0.023370000000000002)\\n        Predict: 1.0\\n       Else (feature 7 > 0.023370000000000002)\\n        Predict: 0.0\\n      Else (feature 17 > 0.007601999999999999)\\n       Predict: 1.0\\n  Tree 90 (weight 1.0):\\n    If (feature 20 <= 16.355)\\n     If (feature 25 <= 0.4486)\\n      If (feature 12 <= 4.067)\\n       Predict: 0.0\\n      Else (feature 12 > 4.067)\\n       If (feature 0 <= 9.7485)\\n        Predict: 0.0\\n       Else (feature 0 > 9.7485)\\n        Predict: 1.0\\n     Else (feature 25 > 0.4486)\\n      If (feature 8 <= 0.19455)\\n       Predict: 0.0\\n      Else (feature 8 > 0.19455)\\n       Predict: 1.0\\n    Else (feature 20 > 16.355)\\n     If (feature 20 <= 17.384999999999998)\\n      If (feature 21 <= 19.54)\\n       Predict: 0.0\\n      Else (feature 21 > 19.54)\\n       If (feature 14 <= 0.0045775)\\n        Predict: 0.0\\n       Else (feature 14 > 0.0045775)\\n        Predict: 1.0\\n     Else (feature 20 > 17.384999999999998)\\n      If (feature 8 <= 0.1378)\\n       Predict: 0.0\\n      Else (feature 8 > 0.1378)\\n       If (feature 6 <= 0.06168)\\n        If (feature 17 <= 0.009901)\\n         Predict: 1.0\\n        Else (feature 17 > 0.009901)\\n         Predict: 0.0\\n       Else (feature 6 > 0.06168)\\n        Predict: 1.0\\n  Tree 91 (weight 1.0):\\n    If (feature 10 <= 0.43389999999999995)\\n     If (feature 20 <= 17.384999999999998)\\n      If (feature 25 <= 0.35685)\\n       If (feature 21 <= 33.435)\\n        Predict: 0.0\\n       Else (feature 21 > 33.435)\\n        If (feature 28 <= 0.26959999999999995)\\n         Predict: 0.0\\n        Else (feature 28 > 0.26959999999999995)\\n         Predict: 1.0\\n      Else (feature 25 > 0.35685)\\n       If (feature 22 <= 99.57)\\n        If (feature 24 <= 0.1632)\\n         Predict: 0.0\\n        Else (feature 24 > 0.1632)\\n         Predict: 1.0\\n       Else (feature 22 > 99.57)\\n        If (feature 17 <= 0.02246)\\n         Predict: 1.0\\n        Else (feature 17 > 0.02246)\\n         Predict: 0.0\\n     Else (feature 20 > 17.384999999999998)\\n      If (feature 22 <= 122.25)\\n       If (feature 25 <= 0.197)\\n        Predict: 0.0\\n       Else (feature 25 > 0.197)\\n        Predict: 1.0\\n      Else (feature 22 > 122.25)\\n       Predict: 1.0\\n    Else (feature 10 > 0.43389999999999995)\\n     If (feature 23 <= 923.95)\\n      If (feature 21 <= 22.34)\\n       Predict: 0.0\\n      Else (feature 21 > 22.34)\\n       If (feature 15 <= 0.009174999999999999)\\n        Predict: 0.0\\n       Else (feature 15 > 0.009174999999999999)\\n        If (feature 12 <= 3.2350000000000003)\\n         Predict: 0.0\\n        Else (feature 12 > 3.2350000000000003)\\n         Predict: 1.0\\n     Else (feature 23 > 923.95)\\n      If (feature 6 <= 0.057115)\\n       If (feature 12 <= 3.0789999999999997)\\n        Predict: 1.0\\n       Else (feature 12 > 3.0789999999999997)\\n        Predict: 0.0\\n      Else (feature 6 > 0.057115)\\n       Predict: 1.0\\n  Tree 92 (weight 1.0):\\n    If (feature 22 <= 113.15)\\n     If (feature 7 <= 0.047885)\\n      If (feature 3 <= 696.25)\\n       Predict: 0.0\\n      Else (feature 3 > 696.25)\\n       If (feature 15 <= 0.014735)\\n        Predict: 1.0\\n       Else (feature 15 > 0.014735)\\n        Predict: 0.0\\n     Else (feature 7 > 0.047885)\\n      If (feature 17 <= 0.02246)\\n       If (feature 21 <= 25.455)\\n        Predict: 0.0\\n       Else (feature 21 > 25.455)\\n        If (feature 17 <= 0.01242)\\n         Predict: 0.0\\n        Else (feature 17 > 0.01242)\\n         Predict: 1.0\\n      Else (feature 17 > 0.02246)\\n       Predict: 0.0\\n    Else (feature 22 > 113.15)\\n     If (feature 27 <= 0.10475000000000001)\\n      If (feature 7 <= 0.053335)\\n       Predict: 0.0\\n      Else (feature 7 > 0.053335)\\n       Predict: 1.0\\n     Else (feature 27 > 0.10475000000000001)\\n      If (feature 1 <= 15.695)\\n       If (feature 12 <= 2.3449999999999998)\\n        Predict: 0.0\\n       Else (feature 12 > 2.3449999999999998)\\n        Predict: 1.0\\n      Else (feature 1 > 15.695)\\n       Predict: 1.0\\n  Tree 93 (weight 1.0):\\n    If (feature 27 <= 0.14105)\\n     If (feature 20 <= 16.765)\\n      If (feature 27 <= 0.11065)\\n       If (feature 29 <= 0.060289999999999996)\\n        If (feature 10 <= 0.3907)\\n         Predict: 0.0\\n        Else (feature 10 > 0.3907)\\n         Predict: 1.0\\n       Else (feature 29 > 0.060289999999999996)\\n        Predict: 0.0\\n      Else (feature 27 > 0.11065)\\n       If (feature 25 <= 0.27665)\\n        If (feature 21 <= 21.395)\\n         Predict: 0.0\\n        Else (feature 21 > 21.395)\\n         Predict: 1.0\\n       Else (feature 25 > 0.27665)\\n        Predict: 0.0\\n     Else (feature 20 > 16.765)\\n      If (feature 18 <= 0.016945)\\n       If (feature 29 <= 0.07082)\\n        Predict: 0.0\\n       Else (feature 29 > 0.07082)\\n        If (feature 17 <= 0.007601999999999999)\\n         Predict: 0.0\\n        Else (feature 17 > 0.007601999999999999)\\n         Predict: 1.0\\n      Else (feature 18 > 0.016945)\\n       Predict: 1.0\\n    Else (feature 27 > 0.14105)\\n     If (feature 3 <= 372.95)\\n      If (feature 0 <= 11.07)\\n       Predict: 0.0\\n      Else (feature 0 > 11.07)\\n       Predict: 1.0\\n     Else (feature 3 > 372.95)\\n      If (feature 10 <= 0.16535)\\n       Predict: 0.0\\n      Else (feature 10 > 0.16535)\\n       If (feature 22 <= 97.97999999999999)\\n        Predict: 0.0\\n       Else (feature 22 > 97.97999999999999)\\n        If (feature 16 <= 0.016515000000000002)\\n         Predict: 0.0\\n        Else (feature 16 > 0.016515000000000002)\\n         Predict: 1.0\\n  Tree 94 (weight 1.0):\\n    If (feature 7 <= 0.047885)\\n     If (feature 9 <= 0.055465)\\n      If (feature 7 <= 0.020720000000000002)\\n       Predict: 0.0\\n      Else (feature 7 > 0.020720000000000002)\\n       If (feature 5 <= 0.070955)\\n        If (feature 1 <= 13.295)\\n         Predict: 0.0\\n        Else (feature 1 > 13.295)\\n         Predict: 1.0\\n       Else (feature 5 > 0.070955)\\n        Predict: 0.0\\n     Else (feature 9 > 0.055465)\\n      If (feature 0 <= 15.025)\\n       If (feature 20 <= 16.765)\\n        Predict: 0.0\\n       Else (feature 20 > 16.765)\\n        If (feature 22 <= 108.69999999999999)\\n         Predict: 1.0\\n        Else (feature 22 > 108.69999999999999)\\n         Predict: 0.0\\n      Else (feature 0 > 15.025)\\n       Predict: 1.0\\n    Else (feature 7 > 0.047885)\\n     If (feature 20 <= 17.384999999999998)\\n      If (feature 17 <= 0.02246)\\n       If (feature 6 <= 0.08435000000000001)\\n        Predict: 0.0\\n       Else (feature 6 > 0.08435000000000001)\\n        If (feature 13 <= 14.094999999999999)\\n         Predict: 0.0\\n        Else (feature 13 > 14.094999999999999)\\n         Predict: 1.0\\n      Else (feature 17 > 0.02246)\\n       Predict: 0.0\\n     Else (feature 20 > 17.384999999999998)\\n      Predict: 1.0\\n  Tree 95 (weight 1.0):\\n    If (feature 26 <= 0.26144999999999996)\\n     If (feature 0 <= 15.495000000000001)\\n      If (feature 20 <= 16.765)\\n       If (feature 13 <= 43.675)\\n        Predict: 0.0\\n       Else (feature 13 > 43.675)\\n        If (feature 0 <= 11.879999999999999)\\n         Predict: 1.0\\n        Else (feature 0 > 11.879999999999999)\\n         Predict: 0.0\\n      Else (feature 20 > 16.765)\\n       If (feature 26 <= 0.16260000000000002)\\n        Predict: 1.0\\n       Else (feature 26 > 0.16260000000000002)\\n        Predict: 0.0\\n     Else (feature 0 > 15.495000000000001)\\n      If (feature 21 <= 19.54)\\n       Predict: 0.0\\n      Else (feature 21 > 19.54)\\n       Predict: 1.0\\n    Else (feature 26 > 0.26144999999999996)\\n     If (feature 2 <= 86.945)\\n      If (feature 7 <= 0.062325)\\n       If (feature 0 <= 13.205)\\n        Predict: 0.0\\n       Else (feature 0 > 13.205)\\n        If (feature 15 <= 0.010964999999999999)\\n         Predict: 1.0\\n        Else (feature 15 > 0.010964999999999999)\\n         Predict: 0.0\\n      Else (feature 7 > 0.062325)\\n       If (feature 21 <= 23.215)\\n        Predict: 0.0\\n       Else (feature 21 > 23.215)\\n        Predict: 1.0\\n     Else (feature 2 > 86.945)\\n      If (feature 21 <= 23.880000000000003)\\n       If (feature 23 <= 923.95)\\n        If (feature 28 <= 0.3076)\\n         Predict: 0.0\\n        Else (feature 28 > 0.3076)\\n         Predict: 1.0\\n       Else (feature 23 > 923.95)\\n        Predict: 1.0\\n      Else (feature 21 > 23.880000000000003)\\n       If (feature 27 <= 0.11065)\\n        Predict: 0.0\\n       Else (feature 27 > 0.11065)\\n        Predict: 1.0\\n  Tree 96 (weight 1.0):\\n    If (feature 23 <= 861.75)\\n     If (feature 1 <= 21.365000000000002)\\n      If (feature 26 <= 0.44310000000000005)\\n       If (feature 12 <= 4.067)\\n        Predict: 0.0\\n       Else (feature 12 > 4.067)\\n        If (feature 0 <= 11.879999999999999)\\n         Predict: 1.0\\n        Else (feature 0 > 11.879999999999999)\\n         Predict: 0.0\\n      Else (feature 26 > 0.44310000000000005)\\n       If (feature 15 <= 0.04831)\\n        Predict: 1.0\\n       Else (feature 15 > 0.04831)\\n        Predict: 0.0\\n     Else (feature 1 > 21.365000000000002)\\n      If (feature 26 <= 0.16260000000000002)\\n       Predict: 0.0\\n      Else (feature 26 > 0.16260000000000002)\\n       If (feature 25 <= 0.21300000000000002)\\n        Predict: 1.0\\n       Else (feature 25 > 0.21300000000000002)\\n        If (feature 8 <= 0.1484)\\n         Predict: 0.0\\n        Else (feature 8 > 0.1484)\\n         Predict: 1.0\\n    Else (feature 23 > 861.75)\\n     If (feature 2 <= 96.405)\\n      If (feature 1 <= 16.75)\\n       Predict: 0.0\\n      Else (feature 1 > 16.75)\\n       Predict: 1.0\\n     Else (feature 2 > 96.405)\\n      If (feature 16 <= 0.018575)\\n       If (feature 1 <= 18.555)\\n        Predict: 0.0\\n       Else (feature 1 > 18.555)\\n        Predict: 1.0\\n      Else (feature 16 > 0.018575)\\n       Predict: 1.0\\n  Tree 97 (weight 1.0):\\n    If (feature 3 <= 696.25)\\n     If (feature 22 <= 101.95)\\n      If (feature 18 <= 0.041944999999999996)\\n       If (feature 27 <= 0.16565)\\n        Predict: 0.0\\n       Else (feature 27 > 0.16565)\\n        Predict: 1.0\\n      Else (feature 18 > 0.041944999999999996)\\n       If (feature 12 <= 2.2325)\\n        Predict: 0.0\\n       Else (feature 12 > 2.2325)\\n        Predict: 1.0\\n     Else (feature 22 > 101.95)\\n      If (feature 24 <= 0.13479999999999998)\\n       If (feature 16 <= 0.014085)\\n        If (feature 8 <= 0.16485)\\n         Predict: 0.0\\n        Else (feature 8 > 0.16485)\\n         Predict: 1.0\\n       Else (feature 16 > 0.014085)\\n        Predict: 0.0\\n      Else (feature 24 > 0.13479999999999998)\\n       If (feature 29 <= 0.07852999999999999)\\n        If (feature 28 <= 0.2616)\\n         Predict: 0.0\\n        Else (feature 28 > 0.2616)\\n         Predict: 1.0\\n       Else (feature 29 > 0.07852999999999999)\\n        Predict: 1.0\\n    Else (feature 3 > 696.25)\\n     If (feature 26 <= 0.1894)\\n      If (feature 1 <= 19.575)\\n       Predict: 0.0\\n      Else (feature 1 > 19.575)\\n       Predict: 1.0\\n     Else (feature 26 > 0.1894)\\n      If (feature 13 <= 14.094999999999999)\\n       Predict: 0.0\\n      Else (feature 13 > 14.094999999999999)\\n       Predict: 1.0\\n  Tree 98 (weight 1.0):\\n    If (feature 27 <= 0.14905000000000002)\\n     If (feature 0 <= 15.025)\\n      If (feature 18 <= 0.011085000000000001)\\n       Predict: 1.0\\n      Else (feature 18 > 0.011085000000000001)\\n       Predict: 0.0\\n     Else (feature 0 > 15.025)\\n      If (feature 21 <= 19.064999999999998)\\n       Predict: 0.0\\n      Else (feature 21 > 19.064999999999998)\\n       If (feature 11 <= 1.686)\\n        Predict: 1.0\\n       Else (feature 11 > 1.686)\\n        Predict: 0.0\\n    Else (feature 27 > 0.14905000000000002)\\n     If (feature 20 <= 11.15)\\n      Predict: 0.0\\n     Else (feature 20 > 11.15)\\n      If (feature 19 <= 0.0090665)\\n       Predict: 1.0\\n      Else (feature 19 > 0.0090665)\\n       If (feature 27 <= 0.15635)\\n        Predict: 0.0\\n       Else (feature 27 > 0.15635)\\n        Predict: 1.0\\n  Tree 99 (weight 1.0):\\n    If (feature 3 <= 696.25)\\n     If (feature 27 <= 0.14905000000000002)\\n      If (feature 20 <= 16.765)\\n       If (feature 3 <= 613.85)\\n        Predict: 0.0\\n       Else (feature 3 > 613.85)\\n        If (feature 14 <= 0.007963000000000001)\\n         Predict: 0.0\\n        Else (feature 14 > 0.007963000000000001)\\n         Predict: 1.0\\n      Else (feature 20 > 16.765)\\n       If (feature 3 <= 588.15)\\n        Predict: 1.0\\n       Else (feature 3 > 588.15)\\n        Predict: 0.0\\n     Else (feature 27 > 0.14905000000000002)\\n      If (feature 16 <= 0.09362000000000001)\\n       If (feature 8 <= 0.1513)\\n        Predict: 0.0\\n       Else (feature 8 > 0.1513)\\n        Predict: 1.0\\n      Else (feature 16 > 0.09362000000000001)\\n       Predict: 0.0\\n    Else (feature 3 > 696.25)\\n     If (feature 1 <= 14.08)\\n      If (feature 9 <= 0.05752)\\n       Predict: 0.0\\n      Else (feature 9 > 0.05752)\\n       Predict: 1.0\\n     Else (feature 1 > 14.08)\\n      Predict: 1.0\\n'"
            ]
          },
          "metadata": {},
          "execution_count": 36
        }
      ]
    },
    {
      "cell_type": "code",
      "metadata": {
        "colab": {
          "base_uri": "https://localhost:8080/"
        },
        "id": "dH1q7TlN9IRJ",
        "outputId": "1ea0931d-27b3-4904-d8cc-6f9d3c0840fb"
      },
      "source": [
        "predictions= rfModel.transform(testData)\n",
        "predictions.select('label', 'labelindexed', 'prediction').show()"
      ],
      "execution_count": null,
      "outputs": [
        {
          "output_type": "stream",
          "name": "stdout",
          "text": [
            "+-----+------------+----------+\n",
            "|label|labelindexed|prediction|\n",
            "+-----+------------+----------+\n",
            "|    B|         0.0|       0.0|\n",
            "|    B|         0.0|       0.0|\n",
            "|    B|         0.0|       0.0|\n",
            "|    B|         0.0|       0.0|\n",
            "|    B|         0.0|       0.0|\n",
            "|    B|         0.0|       0.0|\n",
            "|    B|         0.0|       0.0|\n",
            "|    B|         0.0|       0.0|\n",
            "|    B|         0.0|       0.0|\n",
            "|    B|         0.0|       0.0|\n",
            "|    B|         0.0|       0.0|\n",
            "|    B|         0.0|       0.0|\n",
            "|    B|         0.0|       0.0|\n",
            "|    B|         0.0|       0.0|\n",
            "|    B|         0.0|       0.0|\n",
            "|    B|         0.0|       0.0|\n",
            "|    B|         0.0|       0.0|\n",
            "|    B|         0.0|       0.0|\n",
            "|    B|         0.0|       0.0|\n",
            "|    B|         0.0|       0.0|\n",
            "+-----+------------+----------+\n",
            "only showing top 20 rows\n",
            "\n"
          ]
        }
      ]
    },
    {
      "cell_type": "markdown",
      "metadata": {
        "id": "4ua2pmVK-VCO"
      },
      "source": [
        "**ACCURACY BY RANDOM FOREST IS THE HIGHEST COMPARED TO SINGLE DECISION TREE**"
      ]
    },
    {
      "cell_type": "code",
      "metadata": {
        "colab": {
          "base_uri": "https://localhost:8080/"
        },
        "id": "Ji6xAYnJ9idb",
        "outputId": "a9a2734d-2aed-4609-dbf2-4e6685c409dd"
      },
      "source": [
        "evaluator= MulticlassClassificationEvaluator(labelCol = \"labelIndexed\", predictionCol= \"prediction\",metricName= \"accuracy\")\n",
        "accuracy= evaluator.evaluate(predictions)\n",
        "\n",
        "print(\"Test Error = %g\" % (1.0 - accuracy))"
      ],
      "execution_count": null,
      "outputs": [
        {
          "output_type": "stream",
          "name": "stdout",
          "text": [
            "Test Error = 0.025974\n"
          ]
        }
      ]
    }
  ]
}